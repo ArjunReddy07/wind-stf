{
 "cells": [
  {
   "cell_type": "code",
   "execution_count": 12,
   "metadata": {},
   "outputs": [],
   "source": [
    "import pandas as pd\n",
    "import numpy as np\n",
    "import re\n",
    "from difflib import get_close_matches"
   ]
  },
  {
   "cell_type": "code",
   "execution_count": 34,
   "metadata": {},
   "outputs": [],
   "source": [
    "nomes_completos = [\n",
    "    'Jones David',\n",
    "    'Martha Zulu',\n",
    "    'Jones',\n",
    "    'Maria Carrey',\n",
    "]\n",
    "\n",
    "nomes = [\n",
    "    'Jones',\n",
    "    'Jones D',\n",
    "    'Martha',\n",
    "    'Maria',\n",
    "]\n"
   ]
  },
  {
   "cell_type": "code",
   "execution_count": 36,
   "metadata": {},
   "outputs": [
    {
     "data": {
      "text/plain": [
       "array(['Jones', 'Jones David', 'Maria Carrey', 'Martha Zulu'],\n",
       "      dtype='<U12')"
      ]
     },
     "execution_count": 36,
     "metadata": {},
     "output_type": "execute_result"
    }
   ],
   "source": []
  },
  {
   "cell_type": "code",
   "execution_count": 44,
   "metadata": {},
   "outputs": [
    {
     "name": "stdout",
     "output_type": "stream",
     "text": [
      "{'Martha': 'Martha Zulu', 'Maria': 'Maria Carrey', 'Jones D': 'Jones David', 'Jones': 'Jones'}\n"
     ]
    }
   ],
   "source": [
    "longest_matching_string = {}\n",
    "nomes_sorted_descending = np.sort(nomes)[::-1]\n",
    "\n",
    "for nome_ in nomes_sorted_descending:\n",
    "    longest_matching_string[nome_] = ''\n",
    "    \n",
    "    for nome_completo_ in nomes_completos:\n",
    "        already_assigned_matches = longest_matching_string.values()\n",
    "        if nome_completo_ not in already_assigned_matches:\n",
    "            if nome_ in nome_completo_:\n",
    "                matching_string = nome_completo_\n",
    "                if len(matching_string) > len(longest_matching_string[nome_]):\n",
    "                    longest_matching_string[nome_] = matching_string\n",
    "                \n",
    "print( longest_matching_string )                   "
   ]
  },
  {
   "cell_type": "code",
   "execution_count": 46,
   "metadata": {},
   "outputs": [],
   "source": [
    "fullnames = [\n",
    "    'Jones David',\n",
    "    'Martha Zulu',\n",
    "    'Jones',\n",
    "    'Maria Carrey',\n",
    "]\n",
    "\n",
    "names = [\n",
    "    'Jones',\n",
    "    'Jones D',\n",
    "    'Martha',\n",
    "    'Maria',\n",
    "]\n"
   ]
  },
  {
   "cell_type": "code",
   "execution_count": 51,
   "metadata": {},
   "outputs": [
    {
     "name": "stdout",
     "output_type": "stream",
     "text": [
      "{'Martha': 'Martha Zulu', 'Maria': 'Maria Carrey', 'Jones D': 'Jones David', 'Jones': 'Jones'}\n"
     ]
    }
   ],
   "source": [
    "longest_matching_fullname = {}\n",
    "names_sorted_descending = np.sort(names)[::-1]\n",
    "\n",
    "for name_ in names_sorted_descending:\n",
    "    longest_matching_fullname[name_] = ''\n",
    "    \n",
    "    for fullname_ in fullnames:\n",
    "        already_assigned_matches = longest_matching_fullname.values()\n",
    "        \n",
    "        if fullname_ not in already_assigned_matches:\n",
    "            if name_ in fullname_:\n",
    "                matching_fullname = fullname_\n",
    "                if len(matching_fullname) > len(longest_matching_fullname[name_]):\n",
    "                    longest_matching_fullname[name_] = matching_fullname\n",
    "                \n",
    "print( longest_matching_fullname )                     "
   ]
  },
  {
   "cell_type": "code",
   "execution_count": 54,
   "metadata": {},
   "outputs": [
    {
     "data": {
      "text/plain": [
       "{'Martha': 'Martha Zulu',\n",
       " 'Maria': 'Maria Carrey',\n",
       " 'Jones D': 'Jones David',\n",
       " 'Jones': 'Jones'}"
      ]
     },
     "execution_count": 54,
     "metadata": {},
     "output_type": "execute_result"
    }
   ],
   "source": [
    "def get_matchings(names, fullnames):\n",
    "    longest_matching_fullname = {}\n",
    "    names_sorted_descending = np.sort(names)[::-1]\n",
    "\n",
    "    for name_ in names_sorted_descending:\n",
    "        longest_matching_fullname[name_] = ''\n",
    "\n",
    "        for fullname_ in fullnames:\n",
    "            already_assigned_matches = longest_matching_fullname.values()\n",
    "\n",
    "            if fullname_ not in already_assigned_matches:\n",
    "                if name_ in fullname_:\n",
    "                    matching_fullname = fullname_\n",
    "                    if len(matching_fullname) > len(longest_matching_fullname[name_]):\n",
    "                        longest_matching_fullname[name_] = matching_fullname\n",
    "    return longest_matching_fullname\n",
    "\n",
    "get_matchings(names, fullnames)"
   ]
  },
  {
   "cell_type": "code",
   "execution_count": 13,
   "metadata": {},
   "outputs": [
    {
     "data": {
      "text/plain": [
       "['apple', 'ape']"
      ]
     },
     "execution_count": 13,
     "metadata": {},
     "output_type": "execute_result"
    }
   ],
   "source": []
  },
  {
   "cell_type": "code",
   "execution_count": null,
   "metadata": {},
   "outputs": [],
   "source": []
  }
 ],
 "metadata": {
  "kernelspec": {
   "display_name": "Python 3",
   "language": "python",
   "name": "python3"
  },
  "language_info": {
   "codemirror_mode": {
    "name": "ipython",
    "version": 3
   },
   "file_extension": ".py",
   "mimetype": "text/x-python",
   "name": "python",
   "nbconvert_exporter": "python",
   "pygments_lexer": "ipython3",
   "version": "3.8.2"
  }
 },
 "nbformat": 4,
 "nbformat_minor": 4
}
