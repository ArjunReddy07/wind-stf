{
 "cells": [
  {
   "cell_type": "code",
   "execution_count": 1,
   "metadata": {},
   "outputs": [],
   "source": [
    "import pandas as pd\n",
    "import numpy as np\n",
    "import pickle "
   ]
  },
  {
   "cell_type": "code",
   "execution_count": 2,
   "metadata": {},
   "outputs": [
    {
     "data": {
      "text/html": [
       "<div>\n",
       "<style scoped>\n",
       "    .dataframe tbody tr th:only-of-type {\n",
       "        vertical-align: middle;\n",
       "    }\n",
       "\n",
       "    .dataframe tbody tr th {\n",
       "        vertical-align: top;\n",
       "    }\n",
       "\n",
       "    .dataframe thead th {\n",
       "        text-align: right;\n",
       "    }\n",
       "</style>\n",
       "<table border=\"1\" class=\"dataframe\">\n",
       "  <thead>\n",
       "    <tr style=\"text-align: right;\">\n",
       "      <th></th>\n",
       "      <th>DE145</th>\n",
       "      <th>DE114</th>\n",
       "      <th>DE146</th>\n",
       "      <th>DE132</th>\n",
       "      <th>DE12A</th>\n",
       "      <th>DE133</th>\n",
       "      <th>DE12C</th>\n",
       "      <th>DE11C</th>\n",
       "      <th>DE118</th>\n",
       "      <th>DE119</th>\n",
       "      <th>...</th>\n",
       "      <th>DEG01</th>\n",
       "      <th>DEG0F</th>\n",
       "      <th>DE275</th>\n",
       "      <th>DE21C</th>\n",
       "      <th>DE234</th>\n",
       "      <th>DE251</th>\n",
       "      <th>DE276</th>\n",
       "      <th>DE278</th>\n",
       "      <th>DE718</th>\n",
       "      <th>DE943</th>\n",
       "    </tr>\n",
       "    <tr>\n",
       "      <th>date</th>\n",
       "      <th></th>\n",
       "      <th></th>\n",
       "      <th></th>\n",
       "      <th></th>\n",
       "      <th></th>\n",
       "      <th></th>\n",
       "      <th></th>\n",
       "      <th></th>\n",
       "      <th></th>\n",
       "      <th></th>\n",
       "      <th></th>\n",
       "      <th></th>\n",
       "      <th></th>\n",
       "      <th></th>\n",
       "      <th></th>\n",
       "      <th></th>\n",
       "      <th></th>\n",
       "      <th></th>\n",
       "      <th></th>\n",
       "      <th></th>\n",
       "      <th></th>\n",
       "    </tr>\n",
       "  </thead>\n",
       "  <tbody>\n",
       "    <tr>\n",
       "      <th>2013-01-01</th>\n",
       "      <td>0.219507</td>\n",
       "      <td>0.269458</td>\n",
       "      <td>0.240540</td>\n",
       "      <td>0.263019</td>\n",
       "      <td>0.593148</td>\n",
       "      <td>0.331149</td>\n",
       "      <td>0.555176</td>\n",
       "      <td>0.284140</td>\n",
       "      <td>0.357407</td>\n",
       "      <td>0.410291</td>\n",
       "      <td>...</td>\n",
       "      <td>0.300818</td>\n",
       "      <td>0.363388</td>\n",
       "      <td>0.0</td>\n",
       "      <td>0.0</td>\n",
       "      <td>0.0</td>\n",
       "      <td>0.0</td>\n",
       "      <td>0.0</td>\n",
       "      <td>0.0</td>\n",
       "      <td>0.0</td>\n",
       "      <td>0.0</td>\n",
       "    </tr>\n",
       "    <tr>\n",
       "      <th>2013-01-02</th>\n",
       "      <td>0.083655</td>\n",
       "      <td>0.063571</td>\n",
       "      <td>0.043303</td>\n",
       "      <td>0.005984</td>\n",
       "      <td>0.080731</td>\n",
       "      <td>0.007986</td>\n",
       "      <td>0.066120</td>\n",
       "      <td>0.083709</td>\n",
       "      <td>0.078740</td>\n",
       "      <td>0.108224</td>\n",
       "      <td>...</td>\n",
       "      <td>0.150699</td>\n",
       "      <td>0.133930</td>\n",
       "      <td>0.0</td>\n",
       "      <td>0.0</td>\n",
       "      <td>0.0</td>\n",
       "      <td>0.0</td>\n",
       "      <td>0.0</td>\n",
       "      <td>0.0</td>\n",
       "      <td>0.0</td>\n",
       "      <td>0.0</td>\n",
       "    </tr>\n",
       "    <tr>\n",
       "      <th>2013-01-03</th>\n",
       "      <td>0.246707</td>\n",
       "      <td>0.229298</td>\n",
       "      <td>0.337413</td>\n",
       "      <td>0.047907</td>\n",
       "      <td>0.279092</td>\n",
       "      <td>0.136004</td>\n",
       "      <td>0.237430</td>\n",
       "      <td>0.320095</td>\n",
       "      <td>0.460150</td>\n",
       "      <td>0.516133</td>\n",
       "      <td>...</td>\n",
       "      <td>0.348737</td>\n",
       "      <td>0.297686</td>\n",
       "      <td>0.0</td>\n",
       "      <td>0.0</td>\n",
       "      <td>0.0</td>\n",
       "      <td>0.0</td>\n",
       "      <td>0.0</td>\n",
       "      <td>0.0</td>\n",
       "      <td>0.0</td>\n",
       "      <td>0.0</td>\n",
       "    </tr>\n",
       "  </tbody>\n",
       "</table>\n",
       "<p>3 rows × 292 columns</p>\n",
       "</div>"
      ],
      "text/plain": [
       "               DE145     DE114     DE146     DE132     DE12A     DE133  \\\n",
       "date                                                                     \n",
       "2013-01-01  0.219507  0.269458  0.240540  0.263019  0.593148  0.331149   \n",
       "2013-01-02  0.083655  0.063571  0.043303  0.005984  0.080731  0.007986   \n",
       "2013-01-03  0.246707  0.229298  0.337413  0.047907  0.279092  0.136004   \n",
       "\n",
       "               DE12C     DE11C     DE118     DE119  ...     DEG01     DEG0F  \\\n",
       "date                                                ...                       \n",
       "2013-01-01  0.555176  0.284140  0.357407  0.410291  ...  0.300818  0.363388   \n",
       "2013-01-02  0.066120  0.083709  0.078740  0.108224  ...  0.150699  0.133930   \n",
       "2013-01-03  0.237430  0.320095  0.460150  0.516133  ...  0.348737  0.297686   \n",
       "\n",
       "            DE275  DE21C  DE234  DE251  DE276  DE278  DE718  DE943  \n",
       "date                                                                \n",
       "2013-01-01    0.0    0.0    0.0    0.0    0.0    0.0    0.0    0.0  \n",
       "2013-01-02    0.0    0.0    0.0    0.0    0.0    0.0    0.0    0.0  \n",
       "2013-01-03    0.0    0.0    0.0    0.0    0.0    0.0    0.0    0.0  \n",
       "\n",
       "[3 rows x 292 columns]"
      ]
     },
     "execution_count": 2,
     "metadata": {},
     "output_type": "execute_result"
    }
   ],
   "source": [
    "df_infer = capacity_factors_daily_2000to2015 = pd.read_hdf(\n",
    "    path_or_buf='../data/05_model_input/df_infer.hdf', \n",
    "    key='df_infer'\n",
    ")\n",
    "\n",
    "df_infer.head(3)"
   ]
  },
  {
   "cell_type": "code",
   "execution_count": 3,
   "metadata": {},
   "outputs": [
    {
     "data": {
      "text/plain": [
       "{'pass 1': {'train': slice(0, 542, None), 'val': slice(542, 549, None)},\n",
       " 'pass 2': {'train': slice(0, 719, None), 'val': slice(719, 726, None)},\n",
       " 'pass 3': {'train': slice(0, 896, None), 'val': slice(896, 903, None)}}"
      ]
     },
     "execution_count": 3,
     "metadata": {},
     "output_type": "execute_result"
    }
   ],
   "source": [
    "splits_positions = pickle.load(open('../data/05_model_input/cv_splits_positions.pkl/2020-10-09T00.50.52.126Z/cv_splits_positions.pkl', 'rb'))\n",
    "splits_positions"
   ]
  },
  {
   "cell_type": "code",
   "execution_count": 4,
   "metadata": {},
   "outputs": [
    {
     "data": {
      "text/plain": [
       "<statsmodels.tsa.holtwinters.ExponentialSmoothing at 0x7fa0d9be1400>"
      ]
     },
     "execution_count": 4,
     "metadata": {},
     "output_type": "execute_result"
    }
   ],
   "source": [
    "models = pickle.load(open('../data/06_models/model.pkl/2020-10-09T00.59.06.757Z/model.pkl', 'rb'))\n",
    "model = models['pass 1']\n",
    "submodel = model['DEF0C']\n",
    "\n",
    "submodel"
   ]
  },
  {
   "cell_type": "code",
   "execution_count": 5,
   "metadata": {},
   "outputs": [
    {
     "data": {
      "text/plain": [
       "slice(542, 549, None)"
      ]
     },
     "execution_count": 5,
     "metadata": {},
     "output_type": "execute_result"
    }
   ],
   "source": [
    "splits_positions['pass 1']['val']"
   ]
  },
  {
   "cell_type": "code",
   "execution_count": 6,
   "metadata": {},
   "outputs": [
    {
     "data": {
      "text/plain": [
       "Timestamp('2014-06-27 00:00:00', freq='D')"
      ]
     },
     "execution_count": 6,
     "metadata": {},
     "output_type": "execute_result"
    }
   ],
   "source": [
    "df_infer[ splits_positions['pass 1']['val'] ]['DEF0C'].index[0]"
   ]
  },
  {
   "cell_type": "code",
   "execution_count": null,
   "metadata": {},
   "outputs": [],
   "source": [
    "dir(df_infer.index[542])"
   ]
  },
  {
   "cell_type": "code",
   "execution_count": null,
   "metadata": {},
   "outputs": [],
   "source": [
    "df_infer.index[542].isoformat()"
   ]
  },
  {
   "cell_type": "code",
   "execution_count": null,
   "metadata": {},
   "outputs": [],
   "source": [
    "df_infer.index[542].strftime('%Y-%m-%d')"
   ]
  },
  {
   "cell_type": "code",
   "execution_count": 7,
   "metadata": {},
   "outputs": [
    {
     "ename": "TypeError",
     "evalue": "predict() missing 1 required positional argument: 'params'",
     "output_type": "error",
     "traceback": [
      "\u001b[0;31m---------------------------------------------------------------------------\u001b[0m",
      "\u001b[0;31mTypeError\u001b[0m                                 Traceback (most recent call last)",
      "\u001b[0;32m<ipython-input-7-4379105b1bb9>\u001b[0m in \u001b[0;36m<module>\u001b[0;34m\u001b[0m\n\u001b[0;32m----> 1\u001b[0;31m submodel.predict( \n\u001b[0m\u001b[1;32m      2\u001b[0m     \u001b[0mstart\u001b[0m\u001b[0;34m=\u001b[0m\u001b[0mdf_infer\u001b[0m\u001b[0;34m.\u001b[0m\u001b[0mindex\u001b[0m\u001b[0;34m[\u001b[0m\u001b[0;36m542\u001b[0m\u001b[0;34m]\u001b[0m\u001b[0;34m.\u001b[0m\u001b[0mstrftime\u001b[0m\u001b[0;34m(\u001b[0m\u001b[0;34m'%Y-%m-%d'\u001b[0m\u001b[0;34m)\u001b[0m\u001b[0;34m,\u001b[0m\u001b[0;34m\u001b[0m\u001b[0;34m\u001b[0m\u001b[0m\n\u001b[1;32m      3\u001b[0m     \u001b[0mend\u001b[0m\u001b[0;34m=\u001b[0m\u001b[0mdf_infer\u001b[0m\u001b[0;34m.\u001b[0m\u001b[0mindex\u001b[0m\u001b[0;34m[\u001b[0m\u001b[0;36m545\u001b[0m\u001b[0;34m]\u001b[0m\u001b[0;34m.\u001b[0m\u001b[0mstrftime\u001b[0m\u001b[0;34m(\u001b[0m\u001b[0;34m'%Y-%m-%d'\u001b[0m\u001b[0;34m)\u001b[0m\u001b[0;34m,\u001b[0m\u001b[0;34m\u001b[0m\u001b[0;34m\u001b[0m\u001b[0m\n\u001b[1;32m      4\u001b[0m )\n",
      "\u001b[0;31mTypeError\u001b[0m: predict() missing 1 required positional argument: 'params'"
     ]
    }
   ],
   "source": [
    "submodel.predict( \n",
    "    start=df_infer.index[542].strftime('%Y-%m-%d'),\n",
    "    end=df_infer.index[545].strftime('%Y-%m-%d'),\n",
    ")"
   ]
  },
  {
   "cell_type": "code",
   "execution_count": 8,
   "metadata": {},
   "outputs": [
    {
     "ename": "TypeError",
     "evalue": "predict() missing 1 required positional argument: 'params'",
     "output_type": "error",
     "traceback": [
      "\u001b[0;31m---------------------------------------------------------------------------\u001b[0m",
      "\u001b[0;31mTypeError\u001b[0m                                 Traceback (most recent call last)",
      "\u001b[0;32m<ipython-input-8-f3e6a4a4003e>\u001b[0m in \u001b[0;36m<module>\u001b[0;34m\u001b[0m\n\u001b[0;32m----> 1\u001b[0;31m \u001b[0msubmodel\u001b[0m\u001b[0;34m.\u001b[0m\u001b[0mpredict\u001b[0m\u001b[0;34m(\u001b[0m\u001b[0;34m)\u001b[0m\u001b[0;34m\u001b[0m\u001b[0;34m\u001b[0m\u001b[0m\n\u001b[0m",
      "\u001b[0;31mTypeError\u001b[0m: predict() missing 1 required positional argument: 'params'"
     ]
    }
   ],
   "source": [
    "submodel.predict()"
   ]
  },
  {
   "cell_type": "code",
   "execution_count": null,
   "metadata": {},
   "outputs": [],
   "source": []
  }
 ],
 "metadata": {
  "kernelspec": {
   "display_name": "wind_stf",
   "language": "python",
   "name": "wind_stf"
  },
  "language_info": {
   "codemirror_mode": {
    "name": "ipython",
    "version": 3
   },
   "file_extension": ".py",
   "mimetype": "text/x-python",
   "name": "python",
   "nbconvert_exporter": "python",
   "pygments_lexer": "ipython3",
   "version": "3.8.2"
  }
 },
 "nbformat": 4,
 "nbformat_minor": 4
}
