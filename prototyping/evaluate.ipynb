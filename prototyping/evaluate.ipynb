{
 "cells": [
  {
   "cell_type": "code",
   "execution_count": 1,
   "metadata": {},
   "outputs": [],
   "source": [
    "import pandas as pd\n",
    "import numpy as np\n",
    "import pickle \n",
    "from sklearn.metrics import mean_squared_error, mean_absolute_error"
   ]
  },
  {
   "cell_type": "markdown",
   "metadata": {},
   "source": [
    "# Loading Inputs"
   ]
  },
  {
   "cell_type": "code",
   "execution_count": 2,
   "metadata": {},
   "outputs": [],
   "source": [
    "# for some weird reason required in Jupyter Lab when unpickling model, scaler\n",
    "import sys\n",
    "sys.path.append('..')"
   ]
  },
  {
   "cell_type": "code",
   "execution_count": 3,
   "metadata": {},
   "outputs": [
    {
     "data": {
      "text/plain": [
       "<src.utils.modeling.ForecastingModel at 0x7f87d05ccd90>"
      ]
     },
     "execution_count": 3,
     "metadata": {},
     "output_type": "execute_result"
    }
   ],
   "source": [
    "model = pickle.load(open('../data/06_models/model.pkl/2020-10-09T15.53.34.176Z/model.pkl', 'rb'))\n",
    "model['pass 1']"
   ]
  },
  {
   "cell_type": "code",
   "execution_count": 4,
   "metadata": {},
   "outputs": [
    {
     "data": {
      "text/plain": [
       "{'pass 1': <src.utils.modeling.ForecastingModel at 0x7f87d05ccd90>,\n",
       " 'pass 2': <src.utils.modeling.ForecastingModel at 0x7f878d5f4250>,\n",
       " 'pass 3': <src.utils.modeling.ForecastingModel at 0x7f878d602340>,\n",
       " 'full': <src.utils.modeling.ForecastingModel at 0x7f878d60e430>}"
      ]
     },
     "execution_count": 4,
     "metadata": {},
     "output_type": "execute_result"
    }
   ],
   "source": [
    "model"
   ]
  },
  {
   "cell_type": "code",
   "execution_count": 5,
   "metadata": {},
   "outputs": [
    {
     "data": {
      "text/plain": [
       "{'DEF0C': <statsmodels.tsa.holtwinters.HoltWintersResultsWrapper at 0x7f878d60e460>,\n",
       " 'DE111': <statsmodels.tsa.holtwinters.HoltWintersResultsWrapper at 0x7f878d3544c0>}"
      ]
     },
     "execution_count": 5,
     "metadata": {},
     "output_type": "execute_result"
    }
   ],
   "source": [
    "model['full'].submodels_"
   ]
  },
  {
   "cell_type": "code",
   "execution_count": 6,
   "metadata": {},
   "outputs": [],
   "source": [
    "modeling = {\n",
    "    'targets': ['DEF0C', 'DE111']\n",
    "}"
   ]
  },
  {
   "cell_type": "code",
   "execution_count": 7,
   "metadata": {},
   "outputs": [
    {
     "data": {
      "text/plain": [
       "{'pass 1': {'train': slice(0, 542, None), 'val': slice(542, 549, None)},\n",
       " 'pass 2': {'train': slice(0, 719, None), 'val': slice(719, 726, None)},\n",
       " 'pass 3': {'train': slice(0, 896, None), 'val': slice(896, 903, None)}}"
      ]
     },
     "execution_count": 7,
     "metadata": {},
     "output_type": "execute_result"
    }
   ],
   "source": [
    "cv_splits_positions = pickle.load(open('../data/05_model_input/splits_positions.pkl/2020-10-08T15.33.52.010Z/splits_positions.pkl', 'rb'))\n",
    "cv_splits_positions"
   ]
  },
  {
   "cell_type": "code",
   "execution_count": 8,
   "metadata": {},
   "outputs": [
    {
     "data": {
      "text/html": [
       "<div>\n",
       "<style scoped>\n",
       "    .dataframe tbody tr th:only-of-type {\n",
       "        vertical-align: middle;\n",
       "    }\n",
       "\n",
       "    .dataframe tbody tr th {\n",
       "        vertical-align: top;\n",
       "    }\n",
       "\n",
       "    .dataframe thead th {\n",
       "        text-align: right;\n",
       "    }\n",
       "</style>\n",
       "<table border=\"1\" class=\"dataframe\">\n",
       "  <thead>\n",
       "    <tr style=\"text-align: right;\">\n",
       "      <th></th>\n",
       "      <th>DE145</th>\n",
       "      <th>DE114</th>\n",
       "      <th>DE146</th>\n",
       "      <th>DE132</th>\n",
       "      <th>DE12A</th>\n",
       "      <th>DE133</th>\n",
       "      <th>DE12C</th>\n",
       "      <th>DE11C</th>\n",
       "      <th>DE118</th>\n",
       "      <th>DE119</th>\n",
       "      <th>...</th>\n",
       "      <th>DEG01</th>\n",
       "      <th>DEG0F</th>\n",
       "      <th>DE275</th>\n",
       "      <th>DE21C</th>\n",
       "      <th>DE234</th>\n",
       "      <th>DE251</th>\n",
       "      <th>DE276</th>\n",
       "      <th>DE278</th>\n",
       "      <th>DE718</th>\n",
       "      <th>DE943</th>\n",
       "    </tr>\n",
       "    <tr>\n",
       "      <th>date</th>\n",
       "      <th></th>\n",
       "      <th></th>\n",
       "      <th></th>\n",
       "      <th></th>\n",
       "      <th></th>\n",
       "      <th></th>\n",
       "      <th></th>\n",
       "      <th></th>\n",
       "      <th></th>\n",
       "      <th></th>\n",
       "      <th></th>\n",
       "      <th></th>\n",
       "      <th></th>\n",
       "      <th></th>\n",
       "      <th></th>\n",
       "      <th></th>\n",
       "      <th></th>\n",
       "      <th></th>\n",
       "      <th></th>\n",
       "      <th></th>\n",
       "      <th></th>\n",
       "    </tr>\n",
       "  </thead>\n",
       "  <tbody>\n",
       "    <tr>\n",
       "      <th>2013-01-01</th>\n",
       "      <td>0.219507</td>\n",
       "      <td>0.269458</td>\n",
       "      <td>0.240540</td>\n",
       "      <td>0.263019</td>\n",
       "      <td>0.593148</td>\n",
       "      <td>0.331149</td>\n",
       "      <td>0.555176</td>\n",
       "      <td>0.284140</td>\n",
       "      <td>0.357407</td>\n",
       "      <td>0.410291</td>\n",
       "      <td>...</td>\n",
       "      <td>0.300818</td>\n",
       "      <td>0.363388</td>\n",
       "      <td>0.0</td>\n",
       "      <td>0.0</td>\n",
       "      <td>0.0</td>\n",
       "      <td>0.0</td>\n",
       "      <td>0.0</td>\n",
       "      <td>0.0</td>\n",
       "      <td>0.0</td>\n",
       "      <td>0.0</td>\n",
       "    </tr>\n",
       "    <tr>\n",
       "      <th>2013-01-02</th>\n",
       "      <td>0.083655</td>\n",
       "      <td>0.063571</td>\n",
       "      <td>0.043303</td>\n",
       "      <td>0.005984</td>\n",
       "      <td>0.080731</td>\n",
       "      <td>0.007986</td>\n",
       "      <td>0.066120</td>\n",
       "      <td>0.083709</td>\n",
       "      <td>0.078740</td>\n",
       "      <td>0.108224</td>\n",
       "      <td>...</td>\n",
       "      <td>0.150699</td>\n",
       "      <td>0.133930</td>\n",
       "      <td>0.0</td>\n",
       "      <td>0.0</td>\n",
       "      <td>0.0</td>\n",
       "      <td>0.0</td>\n",
       "      <td>0.0</td>\n",
       "      <td>0.0</td>\n",
       "      <td>0.0</td>\n",
       "      <td>0.0</td>\n",
       "    </tr>\n",
       "    <tr>\n",
       "      <th>2013-01-03</th>\n",
       "      <td>0.246707</td>\n",
       "      <td>0.229298</td>\n",
       "      <td>0.337413</td>\n",
       "      <td>0.047907</td>\n",
       "      <td>0.279092</td>\n",
       "      <td>0.136004</td>\n",
       "      <td>0.237430</td>\n",
       "      <td>0.320095</td>\n",
       "      <td>0.460150</td>\n",
       "      <td>0.516133</td>\n",
       "      <td>...</td>\n",
       "      <td>0.348737</td>\n",
       "      <td>0.297686</td>\n",
       "      <td>0.0</td>\n",
       "      <td>0.0</td>\n",
       "      <td>0.0</td>\n",
       "      <td>0.0</td>\n",
       "      <td>0.0</td>\n",
       "      <td>0.0</td>\n",
       "      <td>0.0</td>\n",
       "      <td>0.0</td>\n",
       "    </tr>\n",
       "  </tbody>\n",
       "</table>\n",
       "<p>3 rows × 292 columns</p>\n",
       "</div>"
      ],
      "text/plain": [
       "               DE145     DE114     DE146     DE132     DE12A     DE133  \\\n",
       "date                                                                     \n",
       "2013-01-01  0.219507  0.269458  0.240540  0.263019  0.593148  0.331149   \n",
       "2013-01-02  0.083655  0.063571  0.043303  0.005984  0.080731  0.007986   \n",
       "2013-01-03  0.246707  0.229298  0.337413  0.047907  0.279092  0.136004   \n",
       "\n",
       "               DE12C     DE11C     DE118     DE119  ...     DEG01     DEG0F  \\\n",
       "date                                                ...                       \n",
       "2013-01-01  0.555176  0.284140  0.357407  0.410291  ...  0.300818  0.363388   \n",
       "2013-01-02  0.066120  0.083709  0.078740  0.108224  ...  0.150699  0.133930   \n",
       "2013-01-03  0.237430  0.320095  0.460150  0.516133  ...  0.348737  0.297686   \n",
       "\n",
       "            DE275  DE21C  DE234  DE251  DE276  DE278  DE718  DE943  \n",
       "date                                                                \n",
       "2013-01-01    0.0    0.0    0.0    0.0    0.0    0.0    0.0    0.0  \n",
       "2013-01-02    0.0    0.0    0.0    0.0    0.0    0.0    0.0    0.0  \n",
       "2013-01-03    0.0    0.0    0.0    0.0    0.0    0.0    0.0    0.0  \n",
       "\n",
       "[3 rows x 292 columns]"
      ]
     },
     "metadata": {},
     "output_type": "display_data"
    },
    {
     "data": {
      "text/plain": [
       "(903, 292)"
      ]
     },
     "metadata": {},
     "output_type": "display_data"
    },
    {
     "data": {
      "text/html": [
       "<div>\n",
       "<style scoped>\n",
       "    .dataframe tbody tr th:only-of-type {\n",
       "        vertical-align: middle;\n",
       "    }\n",
       "\n",
       "    .dataframe tbody tr th {\n",
       "        vertical-align: top;\n",
       "    }\n",
       "\n",
       "    .dataframe thead th {\n",
       "        text-align: right;\n",
       "    }\n",
       "</style>\n",
       "<table border=\"1\" class=\"dataframe\">\n",
       "  <thead>\n",
       "    <tr style=\"text-align: right;\">\n",
       "      <th></th>\n",
       "      <th>DE145</th>\n",
       "      <th>DE114</th>\n",
       "      <th>DE146</th>\n",
       "      <th>DE132</th>\n",
       "      <th>DE12A</th>\n",
       "      <th>DE133</th>\n",
       "      <th>DE12C</th>\n",
       "      <th>DE11C</th>\n",
       "      <th>DE118</th>\n",
       "      <th>DE119</th>\n",
       "      <th>...</th>\n",
       "      <th>DEG01</th>\n",
       "      <th>DEG0F</th>\n",
       "      <th>DE275</th>\n",
       "      <th>DE21C</th>\n",
       "      <th>DE234</th>\n",
       "      <th>DE251</th>\n",
       "      <th>DE276</th>\n",
       "      <th>DE278</th>\n",
       "      <th>DE718</th>\n",
       "      <th>DE943</th>\n",
       "    </tr>\n",
       "    <tr>\n",
       "      <th>date</th>\n",
       "      <th></th>\n",
       "      <th></th>\n",
       "      <th></th>\n",
       "      <th></th>\n",
       "      <th></th>\n",
       "      <th></th>\n",
       "      <th></th>\n",
       "      <th></th>\n",
       "      <th></th>\n",
       "      <th></th>\n",
       "      <th></th>\n",
       "      <th></th>\n",
       "      <th></th>\n",
       "      <th></th>\n",
       "      <th></th>\n",
       "      <th></th>\n",
       "      <th></th>\n",
       "      <th></th>\n",
       "      <th></th>\n",
       "      <th></th>\n",
       "      <th></th>\n",
       "    </tr>\n",
       "  </thead>\n",
       "  <tbody>\n",
       "    <tr>\n",
       "      <th>2015-06-23</th>\n",
       "      <td>0.366372</td>\n",
       "      <td>0.282144</td>\n",
       "      <td>0.169123</td>\n",
       "      <td>0.102384</td>\n",
       "      <td>0.299887</td>\n",
       "      <td>0.085913</td>\n",
       "      <td>0.264382</td>\n",
       "      <td>0.337191</td>\n",
       "      <td>0.124571</td>\n",
       "      <td>0.252602</td>\n",
       "      <td>...</td>\n",
       "      <td>0.134666</td>\n",
       "      <td>0.162422</td>\n",
       "      <td>0.573021</td>\n",
       "      <td>0.416591</td>\n",
       "      <td>0.663477</td>\n",
       "      <td>0.429502</td>\n",
       "      <td>0.499571</td>\n",
       "      <td>0.522793</td>\n",
       "      <td>0.507254</td>\n",
       "      <td>0.238118</td>\n",
       "    </tr>\n",
       "    <tr>\n",
       "      <th>2015-06-24</th>\n",
       "      <td>0.011242</td>\n",
       "      <td>0.008288</td>\n",
       "      <td>0.012873</td>\n",
       "      <td>0.006662</td>\n",
       "      <td>0.006408</td>\n",
       "      <td>0.011105</td>\n",
       "      <td>0.008853</td>\n",
       "      <td>0.012184</td>\n",
       "      <td>0.006574</td>\n",
       "      <td>0.024096</td>\n",
       "      <td>...</td>\n",
       "      <td>0.068389</td>\n",
       "      <td>0.070911</td>\n",
       "      <td>0.063352</td>\n",
       "      <td>0.037593</td>\n",
       "      <td>0.179141</td>\n",
       "      <td>0.085772</td>\n",
       "      <td>0.045303</td>\n",
       "      <td>0.043444</td>\n",
       "      <td>0.097510</td>\n",
       "      <td>0.248150</td>\n",
       "    </tr>\n",
       "    <tr>\n",
       "      <th>2015-06-25</th>\n",
       "      <td>0.007218</td>\n",
       "      <td>0.007427</td>\n",
       "      <td>0.004105</td>\n",
       "      <td>0.006482</td>\n",
       "      <td>0.011570</td>\n",
       "      <td>0.007547</td>\n",
       "      <td>0.008719</td>\n",
       "      <td>0.007859</td>\n",
       "      <td>0.003046</td>\n",
       "      <td>0.003604</td>\n",
       "      <td>...</td>\n",
       "      <td>0.002606</td>\n",
       "      <td>0.002760</td>\n",
       "      <td>0.002339</td>\n",
       "      <td>0.003077</td>\n",
       "      <td>0.007730</td>\n",
       "      <td>0.002873</td>\n",
       "      <td>0.003176</td>\n",
       "      <td>0.003211</td>\n",
       "      <td>0.021591</td>\n",
       "      <td>0.055783</td>\n",
       "    </tr>\n",
       "  </tbody>\n",
       "</table>\n",
       "<p>3 rows × 292 columns</p>\n",
       "</div>"
      ],
      "text/plain": [
       "               DE145     DE114     DE146     DE132     DE12A     DE133  \\\n",
       "date                                                                     \n",
       "2015-06-23  0.366372  0.282144  0.169123  0.102384  0.299887  0.085913   \n",
       "2015-06-24  0.011242  0.008288  0.012873  0.006662  0.006408  0.011105   \n",
       "2015-06-25  0.007218  0.007427  0.004105  0.006482  0.011570  0.007547   \n",
       "\n",
       "               DE12C     DE11C     DE118     DE119  ...     DEG01     DEG0F  \\\n",
       "date                                                ...                       \n",
       "2015-06-23  0.264382  0.337191  0.124571  0.252602  ...  0.134666  0.162422   \n",
       "2015-06-24  0.008853  0.012184  0.006574  0.024096  ...  0.068389  0.070911   \n",
       "2015-06-25  0.008719  0.007859  0.003046  0.003604  ...  0.002606  0.002760   \n",
       "\n",
       "               DE275     DE21C     DE234     DE251     DE276     DE278  \\\n",
       "date                                                                     \n",
       "2015-06-23  0.573021  0.416591  0.663477  0.429502  0.499571  0.522793   \n",
       "2015-06-24  0.063352  0.037593  0.179141  0.085772  0.045303  0.043444   \n",
       "2015-06-25  0.002339  0.003077  0.007730  0.002873  0.003176  0.003211   \n",
       "\n",
       "               DE718     DE943  \n",
       "date                            \n",
       "2015-06-23  0.507254  0.238118  \n",
       "2015-06-24  0.097510  0.248150  \n",
       "2015-06-25  0.021591  0.055783  \n",
       "\n",
       "[3 rows x 292 columns]"
      ]
     },
     "metadata": {},
     "output_type": "display_data"
    },
    {
     "data": {
      "text/plain": [
       "(7, 292)"
      ]
     },
     "metadata": {},
     "output_type": "display_data"
    }
   ],
   "source": [
    "df_infer = capacity_factors_daily_2000to2015 = pd.read_hdf(\n",
    "    path_or_buf='../data/05_model_input/df_infer.hdf', \n",
    "    key='df_infer'\n",
    ")\n",
    "\n",
    "df_test = capacity_factors_daily_2000to2015 = pd.read_hdf(\n",
    "    path_or_buf='../data/05_model_input/df_test.hdf', \n",
    "    key='df_test'\n",
    ")\n",
    "\n",
    "display(df_infer.head(3), df_infer.shape, df_test.head(3), df_test.shape)"
   ]
  },
  {
   "cell_type": "code",
   "execution_count": 10,
   "metadata": {},
   "outputs": [
    {
     "data": {
      "text/plain": [
       "Scaler(steps=[('quantiletransformer',\n",
       "               QuantileTransformer(output_distribution='normal',\n",
       "                                   random_state=0)),\n",
       "              ('makestrictlypositive', MakeStrictlyPositive())])"
      ]
     },
     "execution_count": 10,
     "metadata": {},
     "output_type": "execute_result"
    }
   ],
   "source": [
    "import sys\n",
    "sys.path.append('..')\n",
    "scaler = pickle.load(open('../data/05_model_input/scaler.pkl/2020-10-09T15.53.34.176Z/scaler.pkl', 'rb'))\n",
    "scaler"
   ]
  },
  {
   "cell_type": "markdown",
   "metadata": {},
   "source": [
    "# Making Predictions"
   ]
  },
  {
   "cell_type": "code",
   "execution_count": 11,
   "metadata": {},
   "outputs": [],
   "source": [
    "targets = modeling['targets']"
   ]
  },
  {
   "cell_type": "code",
   "execution_count": 17,
   "metadata": {},
   "outputs": [],
   "source": [
    "preds = {}\n",
    "for pass_id in cv_splits_positions.keys():\n",
    "    preds[pass_id] = {}\n",
    "    for cat in ['train', 'val']:\n",
    "        yhat = {}\n",
    "        \n",
    "        window = df_infer[ cv_splits_positions[pass_id][cat]].index\n",
    "        start = window[0]\n",
    "        end = window[-1]\n",
    "\n",
    "        preds[pass_id][cat] = model[pass_id].predict(start, end, scaler) \n",
    "        \n",
    "# model trained on entire inference dataset\n",
    "preds['full'] = {}\n",
    "\n",
    "for cat in ['train', 'test']:\n",
    "    \n",
    "    if cat == 'train':\n",
    "        df = df_infer\n",
    "    else: \n",
    "        df = df_test\n",
    "        \n",
    "    start = df.index[0]\n",
    "    end = df.index[-1]\n",
    "        \n",
    "    preds['full'][cat] = model['full'].predict(start, end, scaler) "
   ]
  },
  {
   "cell_type": "code",
   "execution_count": 18,
   "metadata": {},
   "outputs": [
    {
     "data": {
      "text/html": [
       "<div>\n",
       "<style scoped>\n",
       "    .dataframe tbody tr th:only-of-type {\n",
       "        vertical-align: middle;\n",
       "    }\n",
       "\n",
       "    .dataframe tbody tr th {\n",
       "        vertical-align: top;\n",
       "    }\n",
       "\n",
       "    .dataframe thead th {\n",
       "        text-align: right;\n",
       "    }\n",
       "</style>\n",
       "<table border=\"1\" class=\"dataframe\">\n",
       "  <thead>\n",
       "    <tr style=\"text-align: right;\">\n",
       "      <th></th>\n",
       "      <th>DEF0C</th>\n",
       "      <th>DE111</th>\n",
       "    </tr>\n",
       "  </thead>\n",
       "  <tbody>\n",
       "    <tr>\n",
       "      <th>2015-06-23</th>\n",
       "      <td>0.102816</td>\n",
       "      <td>0.063786</td>\n",
       "    </tr>\n",
       "    <tr>\n",
       "      <th>2015-06-24</th>\n",
       "      <td>0.098686</td>\n",
       "      <td>0.066355</td>\n",
       "    </tr>\n",
       "    <tr>\n",
       "      <th>2015-06-25</th>\n",
       "      <td>0.099991</td>\n",
       "      <td>0.058471</td>\n",
       "    </tr>\n",
       "    <tr>\n",
       "      <th>2015-06-26</th>\n",
       "      <td>0.110583</td>\n",
       "      <td>0.059606</td>\n",
       "    </tr>\n",
       "    <tr>\n",
       "      <th>2015-06-27</th>\n",
       "      <td>0.113829</td>\n",
       "      <td>0.067134</td>\n",
       "    </tr>\n",
       "    <tr>\n",
       "      <th>2015-06-28</th>\n",
       "      <td>0.131787</td>\n",
       "      <td>0.071151</td>\n",
       "    </tr>\n",
       "    <tr>\n",
       "      <th>2015-06-29</th>\n",
       "      <td>0.119016</td>\n",
       "      <td>0.060346</td>\n",
       "    </tr>\n",
       "  </tbody>\n",
       "</table>\n",
       "</div>"
      ],
      "text/plain": [
       "               DEF0C     DE111\n",
       "2015-06-23  0.102816  0.063786\n",
       "2015-06-24  0.098686  0.066355\n",
       "2015-06-25  0.099991  0.058471\n",
       "2015-06-26  0.110583  0.059606\n",
       "2015-06-27  0.113829  0.067134\n",
       "2015-06-28  0.131787  0.071151\n",
       "2015-06-29  0.119016  0.060346"
      ]
     },
     "execution_count": 18,
     "metadata": {},
     "output_type": "execute_result"
    }
   ],
   "source": [
    "preds['full']['test']"
   ]
  },
  {
   "cell_type": "code",
   "execution_count": 30,
   "metadata": {},
   "outputs": [],
   "source": [
    "gtruth = {}\n",
    "preds = {}\n",
    "targets = model['full'].modeling['targets']\n",
    "for pass_id in cv_splits_positions.keys():\n",
    "    gtruth[pass_id] = {}\n",
    "    preds[pass_id] = {}\n",
    "    for cat in ['train', 'val']:\n",
    "        y = {}\n",
    "        yhat = {}\n",
    "        \n",
    "        window = df_infer[ cv_splits_positions[pass_id][cat]].index\n",
    "        start = window[0]\n",
    "        end = window[-1]\n",
    "        \n",
    "        gtruth[pass_id][cat] = df_infer[slice(start, end)]\n",
    "        preds[pass_id][cat] = model[pass_id].predict(start, end, scaler) \n",
    "        \n",
    "# model trained on entire inference dataset\n",
    "gtruth['full'] = {}\n",
    "preds['full'] = {}\n",
    "\n",
    "for cat in ['train', 'test']:\n",
    "    \n",
    "    if cat == 'train':\n",
    "        df = df_infer\n",
    "    else: \n",
    "        df = df_test\n",
    "        \n",
    "    start = df.index[0]\n",
    "    end = df.index[-1]\n",
    "    \n",
    "    gtruth['full'][cat] = df[slice(start, end)][targets]\n",
    "    preds['full'][cat] = model['full'].predict(start, end, scaler) "
   ]
  },
  {
   "cell_type": "code",
   "execution_count": 31,
   "metadata": {},
   "outputs": [
    {
     "data": {
      "text/html": [
       "<div>\n",
       "<style scoped>\n",
       "    .dataframe tbody tr th:only-of-type {\n",
       "        vertical-align: middle;\n",
       "    }\n",
       "\n",
       "    .dataframe tbody tr th {\n",
       "        vertical-align: top;\n",
       "    }\n",
       "\n",
       "    .dataframe thead th {\n",
       "        text-align: right;\n",
       "    }\n",
       "</style>\n",
       "<table border=\"1\" class=\"dataframe\">\n",
       "  <thead>\n",
       "    <tr style=\"text-align: right;\">\n",
       "      <th></th>\n",
       "      <th>DEF0C</th>\n",
       "      <th>DE111</th>\n",
       "    </tr>\n",
       "    <tr>\n",
       "      <th>date</th>\n",
       "      <th></th>\n",
       "      <th></th>\n",
       "    </tr>\n",
       "  </thead>\n",
       "  <tbody>\n",
       "    <tr>\n",
       "      <th>2015-06-23</th>\n",
       "      <td>0.133906</td>\n",
       "      <td>0.141192</td>\n",
       "    </tr>\n",
       "    <tr>\n",
       "      <th>2015-06-24</th>\n",
       "      <td>0.329115</td>\n",
       "      <td>0.007049</td>\n",
       "    </tr>\n",
       "    <tr>\n",
       "      <th>2015-06-25</th>\n",
       "      <td>0.043115</td>\n",
       "      <td>0.004975</td>\n",
       "    </tr>\n",
       "    <tr>\n",
       "      <th>2015-06-26</th>\n",
       "      <td>0.011318</td>\n",
       "      <td>0.004748</td>\n",
       "    </tr>\n",
       "    <tr>\n",
       "      <th>2015-06-27</th>\n",
       "      <td>0.215408</td>\n",
       "      <td>0.044574</td>\n",
       "    </tr>\n",
       "    <tr>\n",
       "      <th>2015-06-28</th>\n",
       "      <td>0.125797</td>\n",
       "      <td>0.005654</td>\n",
       "    </tr>\n",
       "    <tr>\n",
       "      <th>2015-06-29</th>\n",
       "      <td>0.102188</td>\n",
       "      <td>0.007407</td>\n",
       "    </tr>\n",
       "  </tbody>\n",
       "</table>\n",
       "</div>"
      ],
      "text/plain": [
       "               DEF0C     DE111\n",
       "date                          \n",
       "2015-06-23  0.133906  0.141192\n",
       "2015-06-24  0.329115  0.007049\n",
       "2015-06-25  0.043115  0.004975\n",
       "2015-06-26  0.011318  0.004748\n",
       "2015-06-27  0.215408  0.044574\n",
       "2015-06-28  0.125797  0.005654\n",
       "2015-06-29  0.102188  0.007407"
      ]
     },
     "execution_count": 31,
     "metadata": {},
     "output_type": "execute_result"
    }
   ],
   "source": [
    "gtruth['full'][cat]"
   ]
  },
  {
   "cell_type": "code",
   "execution_count": 32,
   "metadata": {},
   "outputs": [
    {
     "data": {
      "text/html": [
       "<div>\n",
       "<style scoped>\n",
       "    .dataframe tbody tr th:only-of-type {\n",
       "        vertical-align: middle;\n",
       "    }\n",
       "\n",
       "    .dataframe tbody tr th {\n",
       "        vertical-align: top;\n",
       "    }\n",
       "\n",
       "    .dataframe thead th {\n",
       "        text-align: right;\n",
       "    }\n",
       "</style>\n",
       "<table border=\"1\" class=\"dataframe\">\n",
       "  <thead>\n",
       "    <tr style=\"text-align: right;\">\n",
       "      <th></th>\n",
       "      <th>DEF0C</th>\n",
       "      <th>DE111</th>\n",
       "    </tr>\n",
       "  </thead>\n",
       "  <tbody>\n",
       "    <tr>\n",
       "      <th>2015-06-23</th>\n",
       "      <td>0.102816</td>\n",
       "      <td>0.063786</td>\n",
       "    </tr>\n",
       "    <tr>\n",
       "      <th>2015-06-24</th>\n",
       "      <td>0.098686</td>\n",
       "      <td>0.066355</td>\n",
       "    </tr>\n",
       "    <tr>\n",
       "      <th>2015-06-25</th>\n",
       "      <td>0.099991</td>\n",
       "      <td>0.058471</td>\n",
       "    </tr>\n",
       "    <tr>\n",
       "      <th>2015-06-26</th>\n",
       "      <td>0.110583</td>\n",
       "      <td>0.059606</td>\n",
       "    </tr>\n",
       "    <tr>\n",
       "      <th>2015-06-27</th>\n",
       "      <td>0.113829</td>\n",
       "      <td>0.067134</td>\n",
       "    </tr>\n",
       "    <tr>\n",
       "      <th>2015-06-28</th>\n",
       "      <td>0.131787</td>\n",
       "      <td>0.071151</td>\n",
       "    </tr>\n",
       "    <tr>\n",
       "      <th>2015-06-29</th>\n",
       "      <td>0.119016</td>\n",
       "      <td>0.060346</td>\n",
       "    </tr>\n",
       "  </tbody>\n",
       "</table>\n",
       "</div>"
      ],
      "text/plain": [
       "               DEF0C     DE111\n",
       "2015-06-23  0.102816  0.063786\n",
       "2015-06-24  0.098686  0.066355\n",
       "2015-06-25  0.099991  0.058471\n",
       "2015-06-26  0.110583  0.059606\n",
       "2015-06-27  0.113829  0.067134\n",
       "2015-06-28  0.131787  0.071151\n",
       "2015-06-29  0.119016  0.060346"
      ]
     },
     "execution_count": 32,
     "metadata": {},
     "output_type": "execute_result"
    }
   ],
   "source": [
    "preds['full'][cat]"
   ]
  },
  {
   "cell_type": "markdown",
   "metadata": {},
   "source": [
    "# Evaluating"
   ]
  },
  {
   "cell_type": "code",
   "execution_count": null,
   "metadata": {},
   "outputs": [],
   "source": [
    "mean_squared_error(y, y_hat, multioutput='raw_values') ** 0.5"
   ]
  }
 ],
 "metadata": {
  "kernelspec": {
   "display_name": "wind_stf",
   "language": "python",
   "name": "wind_stf"
  },
  "language_info": {
   "codemirror_mode": {
    "name": "ipython",
    "version": 3
   },
   "file_extension": ".py",
   "mimetype": "text/x-python",
   "name": "python",
   "nbconvert_exporter": "python",
   "pygments_lexer": "ipython3",
   "version": "3.8.2"
  }
 },
 "nbformat": 4,
 "nbformat_minor": 4
}
