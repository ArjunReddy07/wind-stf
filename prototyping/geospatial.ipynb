{
 "cells": [
  {
   "cell_type": "code",
   "execution_count": 1,
   "metadata": {},
   "outputs": [],
   "source": [
    "from geopy.distance import geodesic\n",
    "import numpy as np"
   ]
  },
  {
   "cell_type": "code",
   "execution_count": null,
   "metadata": {},
   "outputs": [],
   "source": [
    "vl_madalena = (-23.553039, -46.686074)\n",
    "urubici = (-27.999667, -49.586892)\n",
    "mamangua = (-23.233871, -44.613234)"
   ]
  },
  {
   "cell_type": "code",
   "execution_count": null,
   "metadata": {},
   "outputs": [],
   "source": [
    "geodesic(vl_madalena, urubici, ellipsoid='WGS-84').km #573.37 km"
   ]
  },
  {
   "cell_type": "code",
   "execution_count": null,
   "metadata": {},
   "outputs": [],
   "source": [
    "geodesic(vl_madalena, mamangua, ellipsoid='WGS-84').km #214.49 km"
   ]
  },
  {
   "cell_type": "code",
   "execution_count": null,
   "metadata": {},
   "outputs": [],
   "source": [
    "geodesic(mamangua, urubici, ellipsoid='WGS-84').km #727.50 km"
   ]
  },
  {
   "cell_type": "code",
   "execution_count": 2,
   "metadata": {},
   "outputs": [],
   "source": [
    "from typing import Dict, Tuple\n",
    "\n",
    "\n",
    "def geodistance(nodeA: str, nodeB: str, nodes_coords: Dict[str, Tuple]) -> float:\n",
    "    nodeA_coords = nodes_coords[nodeA]\n",
    "    nodeB_coords = nodes_coords[nodeB]\n",
    "    distance = geodesic(nodeA_coords, nodeB_coords, ellipsoid='WGS-84').km \n",
    "    return distance\n",
    "\n",
    "\n",
    "def geodistance_from_pair(nodes_pair: Tuple[str], nodes_coord: Dict[str, Tuple]) -> float:\n",
    "    distance = geodistance(nodes_pair[0], nodes_pair[1], nodes_coord)\n",
    "    return distance"
   ]
  },
  {
   "cell_type": "code",
   "execution_count": null,
   "metadata": {},
   "outputs": [],
   "source": [
    "geodistance(nodeA='DE111', nodeB='DEF0C', nodes_coords=nodes_coords)"
   ]
  },
  {
   "cell_type": "code",
   "execution_count": null,
   "metadata": {},
   "outputs": [],
   "source": [
    "geodistance_from_pair(('DE111', 'DEF0C'), nodes_coords)"
   ]
  },
  {
   "cell_type": "markdown",
   "metadata": {},
   "source": [
    "# Getting Specific"
   ]
  },
  {
   "cell_type": "code",
   "execution_count": 3,
   "metadata": {},
   "outputs": [],
   "source": [
    "import pandas as pd"
   ]
  },
  {
   "cell_type": "code",
   "execution_count": 4,
   "metadata": {},
   "outputs": [],
   "source": [
    "centroids = pd.read_hdf('../data/04_feature/power-centroids-positions-2000-2015.hdf')"
   ]
  },
  {
   "cell_type": "code",
   "execution_count": 5,
   "metadata": {},
   "outputs": [],
   "source": [
    "targets = ['DEF07', 'DEF0C', 'DEF05', 'DEF0E', 'DEF0B']"
   ]
  },
  {
   "cell_type": "code",
   "execution_count": 6,
   "metadata": {},
   "outputs": [
    {
     "data": {
      "text/plain": [
       "nuts_id  coords\n",
       "DEF07    lat       54.655317\n",
       "         lon        8.974127\n",
       "DEF0C    lat       54.631738\n",
       "         lon        9.395936\n",
       "DEF05    lat       54.110200\n",
       "         lon        9.007904\n",
       "DEF0E    lat       53.944684\n",
       "         lon        9.480571\n",
       "DEF0B    lat       54.296444\n",
       "         lon        9.789379\n",
       "dtype: float64"
      ]
     },
     "execution_count": 6,
     "metadata": {},
     "output_type": "execute_result"
    }
   ],
   "source": [
    "centroids_median = centroids.loc['2000-01-01':'2015-12-31', targets].median()\n",
    "\n",
    "centroids_median"
   ]
  },
  {
   "cell_type": "code",
   "execution_count": 7,
   "metadata": {},
   "outputs": [
    {
     "data": {
      "text/plain": [
       "{'DEF07': (54.65531672517318, 8.974126972180605),\n",
       " 'DEF0C': (54.63173774352925, 9.39593596801835),\n",
       " 'DEF05': (54.110200194884904, 9.007904152162004),\n",
       " 'DEF0E': (53.94468431881774, 9.480570615203577),\n",
       " 'DEF0B': (54.29644448857303, 9.789379082515651)}"
      ]
     },
     "execution_count": 7,
     "metadata": {},
     "output_type": "execute_result"
    }
   ],
   "source": [
    "nodes_coords = {district_id: tuple( centroids_median[district_id] ) for district_id in targets}\n",
    "\n",
    "nodes_coords"
   ]
  },
  {
   "cell_type": "code",
   "execution_count": 8,
   "metadata": {},
   "outputs": [],
   "source": [
    "from itertools import combinations"
   ]
  },
  {
   "cell_type": "code",
   "execution_count": 9,
   "metadata": {},
   "outputs": [
    {
     "data": {
      "text/plain": [
       "[('DEF07', 'DEF0C'),\n",
       " ('DEF07', 'DEF05'),\n",
       " ('DEF07', 'DEF0E'),\n",
       " ('DEF07', 'DEF0B'),\n",
       " ('DEF0C', 'DEF05'),\n",
       " ('DEF0C', 'DEF0E'),\n",
       " ('DEF0C', 'DEF0B'),\n",
       " ('DEF05', 'DEF0E'),\n",
       " ('DEF05', 'DEF0B'),\n",
       " ('DEF0E', 'DEF0B')]"
      ]
     },
     "execution_count": 9,
     "metadata": {},
     "output_type": "execute_result"
    }
   ],
   "source": [
    "node_pairs = list( combinations(targets, 2) )\n",
    "\n",
    "node_pairs"
   ]
  },
  {
   "cell_type": "code",
   "execution_count": 10,
   "metadata": {},
   "outputs": [
    {
     "data": {
      "text/plain": [
       "{('DEF07', 'DEF0C'): 27.358242338513392,\n",
       " ('DEF07', 'DEF05'): 60.71774710099849,\n",
       " ('DEF07', 'DEF0E'): 85.69686649210546,\n",
       " ('DEF07', 'DEF0B'): 66.24758261298138,\n",
       " ('DEF0C', 'DEF05'): 63.29408872529291,\n",
       " ('DEF0C', 'DEF0E'): 76.67449850720566,\n",
       " ('DEF0C', 'DEF0B'): 45.20905335272591,\n",
       " ('DEF05', 'DEF0E'): 36.03953640436726,\n",
       " ('DEF05', 'DEF0B'): 55.048036841626626,\n",
       " ('DEF0E', 'DEF0B'): 44.05329081328752}"
      ]
     },
     "execution_count": 10,
     "metadata": {},
     "output_type": "execute_result"
    }
   ],
   "source": [
    "nodes_pairwise_distances = {pair: geodistance_from_pair(pair, nodes_coords) for pair in node_pairs}\n",
    "\n",
    "nodes_pairwise_distances"
   ]
  },
  {
   "cell_type": "code",
   "execution_count": 11,
   "metadata": {},
   "outputs": [
    {
     "data": {
      "text/html": [
       "<div>\n",
       "<style scoped>\n",
       "    .dataframe tbody tr th:only-of-type {\n",
       "        vertical-align: middle;\n",
       "    }\n",
       "\n",
       "    .dataframe tbody tr th {\n",
       "        vertical-align: top;\n",
       "    }\n",
       "\n",
       "    .dataframe thead th {\n",
       "        text-align: right;\n",
       "    }\n",
       "</style>\n",
       "<table border=\"1\" class=\"dataframe\">\n",
       "  <thead>\n",
       "    <tr style=\"text-align: right;\">\n",
       "      <th></th>\n",
       "      <th>DEF07</th>\n",
       "      <th>DEF0C</th>\n",
       "      <th>DEF05</th>\n",
       "      <th>DEF0E</th>\n",
       "      <th>DEF0B</th>\n",
       "    </tr>\n",
       "  </thead>\n",
       "  <tbody>\n",
       "    <tr>\n",
       "      <th>DEF07</th>\n",
       "      <td>NaN</td>\n",
       "      <td>NaN</td>\n",
       "      <td>NaN</td>\n",
       "      <td>NaN</td>\n",
       "      <td>NaN</td>\n",
       "    </tr>\n",
       "    <tr>\n",
       "      <th>DEF0C</th>\n",
       "      <td>NaN</td>\n",
       "      <td>NaN</td>\n",
       "      <td>NaN</td>\n",
       "      <td>NaN</td>\n",
       "      <td>NaN</td>\n",
       "    </tr>\n",
       "    <tr>\n",
       "      <th>DEF05</th>\n",
       "      <td>NaN</td>\n",
       "      <td>NaN</td>\n",
       "      <td>NaN</td>\n",
       "      <td>NaN</td>\n",
       "      <td>NaN</td>\n",
       "    </tr>\n",
       "    <tr>\n",
       "      <th>DEF0E</th>\n",
       "      <td>NaN</td>\n",
       "      <td>NaN</td>\n",
       "      <td>NaN</td>\n",
       "      <td>NaN</td>\n",
       "      <td>NaN</td>\n",
       "    </tr>\n",
       "    <tr>\n",
       "      <th>DEF0B</th>\n",
       "      <td>NaN</td>\n",
       "      <td>NaN</td>\n",
       "      <td>NaN</td>\n",
       "      <td>NaN</td>\n",
       "      <td>NaN</td>\n",
       "    </tr>\n",
       "  </tbody>\n",
       "</table>\n",
       "</div>"
      ],
      "text/plain": [
       "      DEF07 DEF0C DEF05 DEF0E DEF0B\n",
       "DEF07   NaN   NaN   NaN   NaN   NaN\n",
       "DEF0C   NaN   NaN   NaN   NaN   NaN\n",
       "DEF05   NaN   NaN   NaN   NaN   NaN\n",
       "DEF0E   NaN   NaN   NaN   NaN   NaN\n",
       "DEF0B   NaN   NaN   NaN   NaN   NaN"
      ]
     },
     "execution_count": 11,
     "metadata": {},
     "output_type": "execute_result"
    }
   ],
   "source": [
    "distances_mx = pd.DataFrame(\n",
    "    columns=targets,\n",
    "    index=targets,\n",
    "    data=None,\n",
    ")\n",
    "\n",
    "distances_mx"
   ]
  },
  {
   "cell_type": "code",
   "execution_count": null,
   "metadata": {},
   "outputs": [],
   "source": [
    "A = pd.DataFrame(\n",
    "    columns=targets,\n",
    "    index=targets,\n",
    "    data=None,\n",
    ")"
   ]
  },
  {
   "cell_type": "code",
   "execution_count": null,
   "metadata": {},
   "outputs": [],
   "source": [
    "np.exp (D)"
   ]
  },
  {
   "cell_type": "code",
   "execution_count": null,
   "metadata": {},
   "outputs": [],
   "source": [
    "D.values"
   ]
  },
  {
   "cell_type": "code",
   "execution_count": null,
   "metadata": {},
   "outputs": [],
   "source": [
    "mya = np.array([[0,0,1], [2, 1, 3]])\n",
    "mya"
   ]
  },
  {
   "cell_type": "code",
   "execution_count": null,
   "metadata": {},
   "outputs": [],
   "source": [
    "np.exp( mya )"
   ]
  },
  {
   "cell_type": "code",
   "execution_count": null,
   "metadata": {},
   "outputs": [],
   "source": [
    "np.exp( -np.square(D / std) )"
   ]
  },
  {
   "cell_type": "code",
   "execution_count": null,
   "metadata": {},
   "outputs": [],
   "source": [
    "np.exp(-D.values/std)"
   ]
  },
  {
   "cell_type": "code",
   "execution_count": null,
   "metadata": {},
   "outputs": [],
   "source": [
    "std = D.values.std()\n",
    "A = np.exp(-np.square(D / std))\n",
    "\n",
    "A"
   ]
  },
  {
   "cell_type": "code",
   "execution_count": 12,
   "metadata": {},
   "outputs": [],
   "source": [
    "def build_distances_mx(node_pairs: Tuple[str], nodes_coords: Dict[str, Tuple[float]]) -> pd.DataFrame:\n",
    "    # initialize \n",
    "    distances_mx = pd.DataFrame(\n",
    "        columns=targets,\n",
    "        index=targets,\n",
    "        data=np.nan,\n",
    "    )\n",
    "    \n",
    "    # calculate pairwise distances for upper triangle\n",
    "    for pair in node_pairs:\n",
    "        nodeA, nodeB = pair[0], pair[1]\n",
    "        distances_mx.loc[nodeA, nodeB] = geodistance_from_pair(pair, nodes_coords)\n",
    "    \n",
    "    # mirror upper into lower triangle\n",
    "    distances_mx.update(distances_mx.T)  # distance B-A = distance A-B \n",
    "    \n",
    "    # fill diagonal with zeroes\n",
    "    np.fill_diagonal( distances_mx.values, 0.0 )  # distance A-A = 0.0\n",
    "    \n",
    "    return distances_mx"
   ]
  },
  {
   "cell_type": "code",
   "execution_count": 13,
   "metadata": {},
   "outputs": [],
   "source": [
    "def build_adjacency_mx(dist_dataframe: pd.DataFrame) -> pd.DataFrame:\n",
    "    D = dist_dataframe\n",
    "    \n",
    "    std = D.values.std()\n",
    "    A = np.exp( -np.square(D / std) )\n",
    "    return A"
   ]
  },
  {
   "cell_type": "code",
   "execution_count": 61,
   "metadata": {},
   "outputs": [
    {
     "data": {
      "text/html": [
       "<div>\n",
       "<style scoped>\n",
       "    .dataframe tbody tr th:only-of-type {\n",
       "        vertical-align: middle;\n",
       "    }\n",
       "\n",
       "    .dataframe tbody tr th {\n",
       "        vertical-align: top;\n",
       "    }\n",
       "\n",
       "    .dataframe thead th {\n",
       "        text-align: right;\n",
       "    }\n",
       "</style>\n",
       "<table border=\"1\" class=\"dataframe\">\n",
       "  <thead>\n",
       "    <tr style=\"text-align: right;\">\n",
       "      <th></th>\n",
       "      <th>DEF07</th>\n",
       "      <th>DEF0C</th>\n",
       "      <th>DEF05</th>\n",
       "      <th>DEF0E</th>\n",
       "      <th>DEF0B</th>\n",
       "    </tr>\n",
       "  </thead>\n",
       "  <tbody>\n",
       "    <tr>\n",
       "      <th>DEF07</th>\n",
       "      <td>0.000000</td>\n",
       "      <td>27.358242</td>\n",
       "      <td>60.717747</td>\n",
       "      <td>85.696866</td>\n",
       "      <td>66.247583</td>\n",
       "    </tr>\n",
       "    <tr>\n",
       "      <th>DEF0C</th>\n",
       "      <td>27.358242</td>\n",
       "      <td>0.000000</td>\n",
       "      <td>63.294089</td>\n",
       "      <td>76.674499</td>\n",
       "      <td>45.209053</td>\n",
       "    </tr>\n",
       "    <tr>\n",
       "      <th>DEF05</th>\n",
       "      <td>60.717747</td>\n",
       "      <td>63.294089</td>\n",
       "      <td>0.000000</td>\n",
       "      <td>36.039536</td>\n",
       "      <td>55.048037</td>\n",
       "    </tr>\n",
       "    <tr>\n",
       "      <th>DEF0E</th>\n",
       "      <td>85.696866</td>\n",
       "      <td>76.674499</td>\n",
       "      <td>36.039536</td>\n",
       "      <td>0.000000</td>\n",
       "      <td>44.053291</td>\n",
       "    </tr>\n",
       "    <tr>\n",
       "      <th>DEF0B</th>\n",
       "      <td>66.247583</td>\n",
       "      <td>45.209053</td>\n",
       "      <td>55.048037</td>\n",
       "      <td>44.053291</td>\n",
       "      <td>0.000000</td>\n",
       "    </tr>\n",
       "  </tbody>\n",
       "</table>\n",
       "</div>"
      ],
      "text/plain": [
       "           DEF07      DEF0C      DEF05      DEF0E      DEF0B\n",
       "DEF07   0.000000  27.358242  60.717747  85.696866  66.247583\n",
       "DEF0C  27.358242   0.000000  63.294089  76.674499  45.209053\n",
       "DEF05  60.717747  63.294089   0.000000  36.039536  55.048037\n",
       "DEF0E  85.696866  76.674499  36.039536   0.000000  44.053291\n",
       "DEF0B  66.247583  45.209053  55.048037  44.053291   0.000000"
      ]
     },
     "execution_count": 61,
     "metadata": {},
     "output_type": "execute_result"
    }
   ],
   "source": [
    "D = build_distances_mx(node_pairs, nodes_coords)\n",
    "\n",
    "D"
   ]
  },
  {
   "cell_type": "code",
   "execution_count": 76,
   "metadata": {},
   "outputs": [
    {
     "data": {
      "text/html": [
       "<div>\n",
       "<style scoped>\n",
       "    .dataframe tbody tr th:only-of-type {\n",
       "        vertical-align: middle;\n",
       "    }\n",
       "\n",
       "    .dataframe tbody tr th {\n",
       "        vertical-align: top;\n",
       "    }\n",
       "\n",
       "    .dataframe thead th {\n",
       "        text-align: right;\n",
       "    }\n",
       "</style>\n",
       "<table border=\"1\" class=\"dataframe\">\n",
       "  <thead>\n",
       "    <tr style=\"text-align: right;\">\n",
       "      <th></th>\n",
       "      <th>DEF07</th>\n",
       "      <th>DEF0C</th>\n",
       "      <th>DEF05</th>\n",
       "      <th>DEF0E</th>\n",
       "      <th>DEF0B</th>\n",
       "    </tr>\n",
       "  </thead>\n",
       "  <tbody>\n",
       "    <tr>\n",
       "      <th>DEF07</th>\n",
       "      <td>1.000000</td>\n",
       "      <td>0.363621</td>\n",
       "      <td>0.006854</td>\n",
       "      <td>0.000049</td>\n",
       "      <td>0.002654</td>\n",
       "    </tr>\n",
       "    <tr>\n",
       "      <th>DEF0C</th>\n",
       "      <td>0.363621</td>\n",
       "      <td>1.000000</td>\n",
       "      <td>0.004451</td>\n",
       "      <td>0.000354</td>\n",
       "      <td>0.063134</td>\n",
       "    </tr>\n",
       "    <tr>\n",
       "      <th>DEF05</th>\n",
       "      <td>0.006854</td>\n",
       "      <td>0.004451</td>\n",
       "      <td>1.000000</td>\n",
       "      <td>0.172815</td>\n",
       "      <td>0.016643</td>\n",
       "    </tr>\n",
       "    <tr>\n",
       "      <th>DEF0E</th>\n",
       "      <td>0.000049</td>\n",
       "      <td>0.000354</td>\n",
       "      <td>0.172815</td>\n",
       "      <td>1.000000</td>\n",
       "      <td>0.072581</td>\n",
       "    </tr>\n",
       "    <tr>\n",
       "      <th>DEF0B</th>\n",
       "      <td>0.002654</td>\n",
       "      <td>0.063134</td>\n",
       "      <td>0.016643</td>\n",
       "      <td>0.072581</td>\n",
       "      <td>1.000000</td>\n",
       "    </tr>\n",
       "  </tbody>\n",
       "</table>\n",
       "</div>"
      ],
      "text/plain": [
       "          DEF07     DEF0C     DEF05     DEF0E     DEF0B\n",
       "DEF07  1.000000  0.363621  0.006854  0.000049  0.002654\n",
       "DEF0C  0.363621  1.000000  0.004451  0.000354  0.063134\n",
       "DEF05  0.006854  0.004451  1.000000  0.172815  0.016643\n",
       "DEF0E  0.000049  0.000354  0.172815  1.000000  0.072581\n",
       "DEF0B  0.002654  0.063134  0.016643  0.072581  1.000000"
      ]
     },
     "execution_count": 76,
     "metadata": {},
     "output_type": "execute_result"
    }
   ],
   "source": [
    "A = build_adjacency_mx(D)\n",
    "\n",
    "A"
   ]
  },
  {
   "cell_type": "code",
   "execution_count": 75,
   "metadata": {},
   "outputs": [
    {
     "data": {
      "text/html": [
       "<div>\n",
       "<style scoped>\n",
       "    .dataframe tbody tr th:only-of-type {\n",
       "        vertical-align: middle;\n",
       "    }\n",
       "\n",
       "    .dataframe tbody tr th {\n",
       "        vertical-align: top;\n",
       "    }\n",
       "\n",
       "    .dataframe thead th {\n",
       "        text-align: right;\n",
       "    }\n",
       "</style>\n",
       "<table border=\"1\" class=\"dataframe\">\n",
       "  <thead>\n",
       "    <tr style=\"text-align: right;\">\n",
       "      <th></th>\n",
       "      <th>DEF07</th>\n",
       "      <th>DEF0C</th>\n",
       "      <th>DEF05</th>\n",
       "      <th>DEF0E</th>\n",
       "      <th>DEF0B</th>\n",
       "    </tr>\n",
       "  </thead>\n",
       "  <tbody>\n",
       "    <tr>\n",
       "      <th>DEF07</th>\n",
       "      <td>0.000000</td>\n",
       "      <td>0.000000</td>\n",
       "      <td>0.000000</td>\n",
       "      <td>0.000000</td>\n",
       "      <td>0.0</td>\n",
       "    </tr>\n",
       "    <tr>\n",
       "      <th>DEF0C</th>\n",
       "      <td>0.363621</td>\n",
       "      <td>0.000000</td>\n",
       "      <td>0.000000</td>\n",
       "      <td>0.000000</td>\n",
       "      <td>0.0</td>\n",
       "    </tr>\n",
       "    <tr>\n",
       "      <th>DEF05</th>\n",
       "      <td>0.006854</td>\n",
       "      <td>0.004451</td>\n",
       "      <td>0.000000</td>\n",
       "      <td>0.000000</td>\n",
       "      <td>0.0</td>\n",
       "    </tr>\n",
       "    <tr>\n",
       "      <th>DEF0E</th>\n",
       "      <td>0.000000</td>\n",
       "      <td>0.000354</td>\n",
       "      <td>0.172815</td>\n",
       "      <td>0.000000</td>\n",
       "      <td>0.0</td>\n",
       "    </tr>\n",
       "    <tr>\n",
       "      <th>DEF0B</th>\n",
       "      <td>0.002654</td>\n",
       "      <td>0.063134</td>\n",
       "      <td>0.016643</td>\n",
       "      <td>0.072581</td>\n",
       "      <td>0.0</td>\n",
       "    </tr>\n",
       "  </tbody>\n",
       "</table>\n",
       "</div>"
      ],
      "text/plain": [
       "          DEF07     DEF0C     DEF05     DEF0E  DEF0B\n",
       "DEF07  0.000000  0.000000  0.000000  0.000000    0.0\n",
       "DEF0C  0.363621  0.000000  0.000000  0.000000    0.0\n",
       "DEF05  0.006854  0.004451  0.000000  0.000000    0.0\n",
       "DEF0E  0.000000  0.000354  0.172815  0.000000    0.0\n",
       "DEF0B  0.002654  0.063134  0.016643  0.072581    0.0"
      ]
     },
     "execution_count": 75,
     "metadata": {},
     "output_type": "execute_result"
    }
   ],
   "source": [
    "A_tril = pd.DataFrame(\n",
    "    data= np.tril(A) - np.identity(len(A)), # exclusive lower triangle matrix of A \n",
    "    columns=A.columns,\n",
    "    index=A.index\n",
    ")\n",
    "\n",
    "A_tril"
   ]
  },
  {
   "cell_type": "code",
   "execution_count": 77,
   "metadata": {},
   "outputs": [
    {
     "data": {
      "text/html": [
       "<div>\n",
       "<style scoped>\n",
       "    .dataframe tbody tr th:only-of-type {\n",
       "        vertical-align: middle;\n",
       "    }\n",
       "\n",
       "    .dataframe tbody tr th {\n",
       "        vertical-align: top;\n",
       "    }\n",
       "\n",
       "    .dataframe thead th {\n",
       "        text-align: right;\n",
       "    }\n",
       "</style>\n",
       "<table border=\"1\" class=\"dataframe\">\n",
       "  <thead>\n",
       "    <tr style=\"text-align: right;\">\n",
       "      <th></th>\n",
       "      <th>DEF07</th>\n",
       "      <th>DEF0C</th>\n",
       "      <th>DEF05</th>\n",
       "      <th>DEF0E</th>\n",
       "      <th>DEF0B</th>\n",
       "    </tr>\n",
       "  </thead>\n",
       "  <tbody>\n",
       "    <tr>\n",
       "      <th>DEF07</th>\n",
       "      <td>1.000000</td>\n",
       "      <td>0.363621</td>\n",
       "      <td>0.006854</td>\n",
       "      <td>0.000000</td>\n",
       "      <td>0.002654</td>\n",
       "    </tr>\n",
       "    <tr>\n",
       "      <th>DEF0C</th>\n",
       "      <td>0.363621</td>\n",
       "      <td>1.000000</td>\n",
       "      <td>0.004451</td>\n",
       "      <td>0.000354</td>\n",
       "      <td>0.063134</td>\n",
       "    </tr>\n",
       "    <tr>\n",
       "      <th>DEF05</th>\n",
       "      <td>0.006854</td>\n",
       "      <td>0.004451</td>\n",
       "      <td>1.000000</td>\n",
       "      <td>0.172815</td>\n",
       "      <td>0.016643</td>\n",
       "    </tr>\n",
       "    <tr>\n",
       "      <th>DEF0E</th>\n",
       "      <td>0.000000</td>\n",
       "      <td>0.000354</td>\n",
       "      <td>0.172815</td>\n",
       "      <td>1.000000</td>\n",
       "      <td>0.072581</td>\n",
       "    </tr>\n",
       "    <tr>\n",
       "      <th>DEF0B</th>\n",
       "      <td>0.002654</td>\n",
       "      <td>0.063134</td>\n",
       "      <td>0.016643</td>\n",
       "      <td>0.072581</td>\n",
       "      <td>1.000000</td>\n",
       "    </tr>\n",
       "  </tbody>\n",
       "</table>\n",
       "</div>"
      ],
      "text/plain": [
       "          DEF07     DEF0C     DEF05     DEF0E     DEF0B\n",
       "DEF07  1.000000  0.363621  0.006854  0.000000  0.002654\n",
       "DEF0C  0.363621  1.000000  0.004451  0.000354  0.063134\n",
       "DEF05  0.006854  0.004451  1.000000  0.172815  0.016643\n",
       "DEF0E  0.000000  0.000354  0.172815  1.000000  0.072581\n",
       "DEF0B  0.002654  0.063134  0.016643  0.072581  1.000000"
      ]
     },
     "execution_count": 77,
     "metadata": {},
     "output_type": "execute_result"
    }
   ],
   "source": [
    "A_sparse = A.copy(deep=True)\n",
    "A_sparse[D > 85] = 0\n",
    "\n",
    "A_sparse"
   ]
  },
  {
   "cell_type": "code",
   "execution_count": 79,
   "metadata": {},
   "outputs": [],
   "source": [
    "import pickle\n",
    "pickle.dump(A, open('../data/05_model_input/adj_mx.pkl', 'wb'))"
   ]
  },
  {
   "cell_type": "code",
   "execution_count": null,
   "metadata": {},
   "outputs": [],
   "source": []
  }
 ],
 "metadata": {
  "kernelspec": {
   "display_name": "wind_stf",
   "language": "python",
   "name": "wind_stf"
  },
  "language_info": {
   "codemirror_mode": {
    "name": "ipython",
    "version": 3
   },
   "file_extension": ".py",
   "mimetype": "text/x-python",
   "name": "python",
   "nbconvert_exporter": "python",
   "pygments_lexer": "ipython3",
   "version": "3.8.2"
  }
 },
 "nbformat": 4,
 "nbformat_minor": 4
}
