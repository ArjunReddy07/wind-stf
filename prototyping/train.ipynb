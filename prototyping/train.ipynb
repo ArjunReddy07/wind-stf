{
 "cells": [
  {
   "cell_type": "code",
   "execution_count": 1,
   "metadata": {},
   "outputs": [],
   "source": [
    "import pickle\n",
    "import pandas as pd\n",
    "import numpy as np\n",
    "from statsmodels.tsa.holtwinters import ExponentialSmoothing\n",
    "from typing import Dict, Any"
   ]
  },
  {
   "cell_type": "code",
   "execution_count": 2,
   "metadata": {},
   "outputs": [
    {
     "data": {
      "text/plain": [
       "'/home/jonasmmiguel/Documents/learning/poli/thesis/wind-stf/prototyping'"
      ]
     },
     "execution_count": 2,
     "metadata": {},
     "output_type": "execute_result"
    }
   ],
   "source": [
    "import os\n",
    "os.getcwd()"
   ]
  },
  {
   "cell_type": "code",
   "execution_count": 15,
   "metadata": {},
   "outputs": [],
   "source": [
    "models = pickle.load(open('../data/06_models/model.pkl/2020-10-09T00.59.06.757Z/model.pkl', 'rb'))"
   ]
  },
  {
   "cell_type": "markdown",
   "metadata": {},
   "source": [
    "# MISC"
   ]
  },
  {
   "cell_type": "code",
   "execution_count": 3,
   "metadata": {},
   "outputs": [
    {
     "data": {
      "text/html": [
       "<div>\n",
       "<style scoped>\n",
       "    .dataframe tbody tr th:only-of-type {\n",
       "        vertical-align: middle;\n",
       "    }\n",
       "\n",
       "    .dataframe tbody tr th {\n",
       "        vertical-align: top;\n",
       "    }\n",
       "\n",
       "    .dataframe thead th {\n",
       "        text-align: right;\n",
       "    }\n",
       "</style>\n",
       "<table border=\"1\" class=\"dataframe\">\n",
       "  <thead>\n",
       "    <tr style=\"text-align: right;\">\n",
       "      <th></th>\n",
       "      <th>DE145</th>\n",
       "      <th>DE114</th>\n",
       "      <th>DE146</th>\n",
       "      <th>DE132</th>\n",
       "      <th>DE12A</th>\n",
       "      <th>DE133</th>\n",
       "      <th>DE12C</th>\n",
       "      <th>DE11C</th>\n",
       "      <th>DE118</th>\n",
       "      <th>DE119</th>\n",
       "      <th>...</th>\n",
       "      <th>DEG01</th>\n",
       "      <th>DEG0F</th>\n",
       "      <th>DE275</th>\n",
       "      <th>DE21C</th>\n",
       "      <th>DE234</th>\n",
       "      <th>DE251</th>\n",
       "      <th>DE276</th>\n",
       "      <th>DE278</th>\n",
       "      <th>DE718</th>\n",
       "      <th>DE943</th>\n",
       "    </tr>\n",
       "    <tr>\n",
       "      <th>date</th>\n",
       "      <th></th>\n",
       "      <th></th>\n",
       "      <th></th>\n",
       "      <th></th>\n",
       "      <th></th>\n",
       "      <th></th>\n",
       "      <th></th>\n",
       "      <th></th>\n",
       "      <th></th>\n",
       "      <th></th>\n",
       "      <th></th>\n",
       "      <th></th>\n",
       "      <th></th>\n",
       "      <th></th>\n",
       "      <th></th>\n",
       "      <th></th>\n",
       "      <th></th>\n",
       "      <th></th>\n",
       "      <th></th>\n",
       "      <th></th>\n",
       "      <th></th>\n",
       "    </tr>\n",
       "  </thead>\n",
       "  <tbody>\n",
       "    <tr>\n",
       "      <th>2013-01-01</th>\n",
       "      <td>0.219507</td>\n",
       "      <td>0.269458</td>\n",
       "      <td>0.240540</td>\n",
       "      <td>0.263019</td>\n",
       "      <td>0.593148</td>\n",
       "      <td>0.331149</td>\n",
       "      <td>0.555176</td>\n",
       "      <td>0.284140</td>\n",
       "      <td>0.357407</td>\n",
       "      <td>0.410291</td>\n",
       "      <td>...</td>\n",
       "      <td>0.300818</td>\n",
       "      <td>0.363388</td>\n",
       "      <td>0.0</td>\n",
       "      <td>0.0</td>\n",
       "      <td>0.0</td>\n",
       "      <td>0.0</td>\n",
       "      <td>0.0</td>\n",
       "      <td>0.0</td>\n",
       "      <td>0.0</td>\n",
       "      <td>0.0</td>\n",
       "    </tr>\n",
       "    <tr>\n",
       "      <th>2013-01-02</th>\n",
       "      <td>0.083655</td>\n",
       "      <td>0.063571</td>\n",
       "      <td>0.043303</td>\n",
       "      <td>0.005984</td>\n",
       "      <td>0.080731</td>\n",
       "      <td>0.007986</td>\n",
       "      <td>0.066120</td>\n",
       "      <td>0.083709</td>\n",
       "      <td>0.078740</td>\n",
       "      <td>0.108224</td>\n",
       "      <td>...</td>\n",
       "      <td>0.150699</td>\n",
       "      <td>0.133930</td>\n",
       "      <td>0.0</td>\n",
       "      <td>0.0</td>\n",
       "      <td>0.0</td>\n",
       "      <td>0.0</td>\n",
       "      <td>0.0</td>\n",
       "      <td>0.0</td>\n",
       "      <td>0.0</td>\n",
       "      <td>0.0</td>\n",
       "    </tr>\n",
       "    <tr>\n",
       "      <th>2013-01-03</th>\n",
       "      <td>0.246707</td>\n",
       "      <td>0.229298</td>\n",
       "      <td>0.337413</td>\n",
       "      <td>0.047907</td>\n",
       "      <td>0.279092</td>\n",
       "      <td>0.136004</td>\n",
       "      <td>0.237430</td>\n",
       "      <td>0.320095</td>\n",
       "      <td>0.460150</td>\n",
       "      <td>0.516133</td>\n",
       "      <td>...</td>\n",
       "      <td>0.348737</td>\n",
       "      <td>0.297686</td>\n",
       "      <td>0.0</td>\n",
       "      <td>0.0</td>\n",
       "      <td>0.0</td>\n",
       "      <td>0.0</td>\n",
       "      <td>0.0</td>\n",
       "      <td>0.0</td>\n",
       "      <td>0.0</td>\n",
       "      <td>0.0</td>\n",
       "    </tr>\n",
       "  </tbody>\n",
       "</table>\n",
       "<p>3 rows × 292 columns</p>\n",
       "</div>"
      ],
      "text/plain": [
       "               DE145     DE114     DE146     DE132     DE12A     DE133  \\\n",
       "date                                                                     \n",
       "2013-01-01  0.219507  0.269458  0.240540  0.263019  0.593148  0.331149   \n",
       "2013-01-02  0.083655  0.063571  0.043303  0.005984  0.080731  0.007986   \n",
       "2013-01-03  0.246707  0.229298  0.337413  0.047907  0.279092  0.136004   \n",
       "\n",
       "               DE12C     DE11C     DE118     DE119  ...     DEG01     DEG0F  \\\n",
       "date                                                ...                       \n",
       "2013-01-01  0.555176  0.284140  0.357407  0.410291  ...  0.300818  0.363388   \n",
       "2013-01-02  0.066120  0.083709  0.078740  0.108224  ...  0.150699  0.133930   \n",
       "2013-01-03  0.237430  0.320095  0.460150  0.516133  ...  0.348737  0.297686   \n",
       "\n",
       "            DE275  DE21C  DE234  DE251  DE276  DE278  DE718  DE943  \n",
       "date                                                                \n",
       "2013-01-01    0.0    0.0    0.0    0.0    0.0    0.0    0.0    0.0  \n",
       "2013-01-02    0.0    0.0    0.0    0.0    0.0    0.0    0.0    0.0  \n",
       "2013-01-03    0.0    0.0    0.0    0.0    0.0    0.0    0.0    0.0  \n",
       "\n",
       "[3 rows x 292 columns]"
      ]
     },
     "execution_count": 3,
     "metadata": {},
     "output_type": "execute_result"
    }
   ],
   "source": [
    "df_infer = capacity_factors_daily_2000to2015 = pd.read_hdf(\n",
    "    path_or_buf='../data/05_model_input/df_infer.hdf', \n",
    "    key='df_infer'\n",
    ")\n",
    "\n",
    "df_infer.head(3)"
   ]
  },
  {
   "cell_type": "code",
   "execution_count": 13,
   "metadata": {},
   "outputs": [
    {
     "data": {
      "text/plain": [
       "{'pass 1': {'train': slice(0, 542, None), 'val': slice(542, 549, None)},\n",
       " 'pass 2': {'train': slice(0, 719, None), 'val': slice(719, 726, None)},\n",
       " 'pass 3': {'train': slice(0, 896, None), 'val': slice(896, 903, None)}}"
      ]
     },
     "execution_count": 13,
     "metadata": {},
     "output_type": "execute_result"
    }
   ],
   "source": [
    "splits_positions = pickle.load(open('../data/05_model_input/cv_splits_positions.pkl/2020-10-09T00.50.52.126Z/cv_splits_positions.pkl', 'rb'))\n",
    "splits_positions"
   ]
  },
  {
   "cell_type": "code",
   "execution_count": 5,
   "metadata": {},
   "outputs": [],
   "source": [
    "modeling = {\n",
    "  'approach': 'HW-ES',\n",
    "  'mode': 'districtwise',\n",
    "  'model_inference_window': {\n",
    "    'start': '2013-01-01',\n",
    "    'end': '2015-06-22',\n",
    "  },\n",
    "  'test_window': {\n",
    "    'start': '2015-06-23',\n",
    "    'end': '2015-06-29',\n",
    "  },\n",
    "  'preprocessing': ['get_quantile_equivalent_normal_dist', 'make_strictly_positive'],\n",
    "  'hyperpars': {\n",
    "    'trend': 'additive',\n",
    "      'seasonal': 'multiplicative',\n",
    "      'seasonal_periods': 365,\n",
    "  },\n",
    "  'targets': ['DEF0C', 'DE111'],\n",
    "}"
   ]
  },
  {
   "cell_type": "code",
   "execution_count": 6,
   "metadata": {},
   "outputs": [],
   "source": [
    "class ForecastingModel:\n",
    "    def __init__(self, df, modeling: Dict[str, Any]):\n",
    "        self.modeling = modeling\n",
    "        self.df = df\n",
    "        self.targets = df.columns\n",
    "        self.submodels_ = {}\n",
    "        self.model_ = None\n",
    "\n",
    "    def fit(self):\n",
    "\n",
    "        if self.modeling['mode'] == 'districtwise':\n",
    "\n",
    "            if self.modeling['approach'] == 'HW-ES':\n",
    "                self.submodels_ = {\n",
    "                    district: ExponentialSmoothing(self.df[district], **self.modeling['hyperpars'])\n",
    "                    for district in self.targets\n",
    "                }\n",
    "                return self.submodels_\n",
    "\n",
    "        elif self.modeling['mode'] == 'spatio-temporal':  # i.e. all districts at once\n",
    "\n",
    "            if self.modeling['approach'] == 'RNN-ES':\n",
    "                self.model_ = None\n",
    "\n",
    "            elif self.modeling['approach'] == 'GWNet':\n",
    "                self.model_ = None\n",
    "\n",
    "            return self.model_\n",
    "\n",
    "        else:\n",
    "            return NotImplementedError('')\n",
    "\n",
    "\n",
    "\n",
    "    def predict(self, start, end, transformer):\n",
    "        y_hat = self.model_.predict(start, end)\n",
    "        y_hat_unscaled = transformer.inverse_transform(y_hat)\n",
    "        return y_hat_unscaled"
   ]
  },
  {
   "cell_type": "code",
   "execution_count": 8,
   "metadata": {},
   "outputs": [],
   "source": [
    "df = df_infer"
   ]
  },
  {
   "cell_type": "code",
   "execution_count": 9,
   "metadata": {},
   "outputs": [],
   "source": [
    "model = {}\n",
    "\n",
    "# ignore all vars we don't want to model\n",
    "targets = modeling['targets']\n",
    "df = df[targets]\n",
    "\n",
    "for pass_id in splits_positions.keys():\n",
    "    model[pass_id] = ForecastingModel(\n",
    "        df[ splits_positions[pass_id]['train'] ],\n",
    "        modeling\n",
    "    ).fit()"
   ]
  },
  {
   "cell_type": "code",
   "execution_count": 10,
   "metadata": {},
   "outputs": [
    {
     "data": {
      "text/plain": [
       "{'pass 1': {'DEF0C': <statsmodels.tsa.holtwinters.ExponentialSmoothing at 0x7feb2eaeba30>,\n",
       "  'DE111': <statsmodels.tsa.holtwinters.ExponentialSmoothing at 0x7feb2eaeb8b0>},\n",
       " 'pass 2': {'DEF0C': <statsmodels.tsa.holtwinters.ExponentialSmoothing at 0x7feb2eaeb1c0>,\n",
       "  'DE111': <statsmodels.tsa.holtwinters.ExponentialSmoothing at 0x7feb2eaeb970>},\n",
       " 'pass 3': {'DEF0C': <statsmodels.tsa.holtwinters.ExponentialSmoothing at 0x7feb2eaebe20>,\n",
       "  'DE111': <statsmodels.tsa.holtwinters.ExponentialSmoothing at 0x7feb2eaebfd0>}}"
      ]
     },
     "execution_count": 10,
     "metadata": {},
     "output_type": "execute_result"
    }
   ],
   "source": [
    "model"
   ]
  },
  {
   "cell_type": "code",
   "execution_count": 12,
   "metadata": {},
   "outputs": [
    {
     "data": {
      "text/plain": [
       "{'DEF0C': <statsmodels.tsa.holtwinters.ExponentialSmoothing at 0x7feb2eaebdc0>,\n",
       " 'DE111': <statsmodels.tsa.holtwinters.ExponentialSmoothing at 0x7feb2eaeb820>}"
      ]
     },
     "execution_count": 12,
     "metadata": {},
     "output_type": "execute_result"
    }
   ],
   "source": [
    "ForecastingModel(\n",
    "        df[ splits_positions[pass_id]['train'] ],\n",
    "        modeling\n",
    "    ).fit()"
   ]
  },
  {
   "cell_type": "code",
   "execution_count": null,
   "metadata": {},
   "outputs": [],
   "source": []
  }
 ],
 "metadata": {
  "kernelspec": {
   "display_name": "wind_stf",
   "language": "python",
   "name": "wind_stf"
  },
  "language_info": {
   "codemirror_mode": {
    "name": "ipython",
    "version": 3
   },
   "file_extension": ".py",
   "mimetype": "text/x-python",
   "name": "python",
   "nbconvert_exporter": "python",
   "pygments_lexer": "ipython3",
   "version": "3.8.2"
  }
 },
 "nbformat": 4,
 "nbformat_minor": 4
}
