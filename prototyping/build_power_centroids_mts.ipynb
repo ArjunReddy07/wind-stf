{
 "metadata": {
  "language_info": {
   "codemirror_mode": {
    "name": "ipython",
    "version": 3
   },
   "file_extension": ".py",
   "mimetype": "text/x-python",
   "name": "python",
   "nbconvert_exporter": "python",
   "pygments_lexer": "ipython3",
   "version": "3.8.2-final"
  },
  "orig_nbformat": 2,
  "kernelspec": {
   "name": "python3",
   "language": "python",
   "display_name": "Python 3"
  }
 },
 "nbformat": 4,
 "nbformat_minor": 2,
 "cells": [
  {
   "cell_type": "code",
   "execution_count": 1,
   "metadata": {},
   "outputs": [],
   "source": [
    "import pandas as pd\n",
    "import numpy as np"
   ]
  },
  {
   "cell_type": "code",
   "execution_count": 2,
   "metadata": {},
   "outputs": [],
   "source": [
    "from pandas.core.window.common import _flex_binary_moment\n",
    "from pandas.core.window.expanding import _Rolling_and_Expanding\n",
    "\n",
    "def weighted_average(self, weights, **kwargs):\n",
    "    weights = self._shallow_copy(weights)\n",
    "    window = self._get_window(weights)\n",
    "\n",
    "    def _get_weighted_average(X, Y):\n",
    "        X = X.astype('float64')\n",
    "        Y = Y.astype('float64')\n",
    "        sum_f = lambda x: x.rolling(window, self.min_periods, center=self.center).sum(**kwargs)\n",
    "        return sum_f(X * Y) / sum_f(Y)\n",
    "\n",
    "    return _flex_binary_moment(self._selected_obj, weights._selected_obj,\n",
    "                               _get_weighted_average, pairwise=True)\n",
    "\n",
    "_Rolling_and_Expanding.weighted_average = weighted_average"
   ]
  },
  {
   "cell_type": "code",
   "execution_count": null,
   "metadata": {},
   "outputs": [],
   "source": [
    "df = pd.DataFrame(\n",
    "    {'myvalues': [1,2,3,4,5],\n",
    "    'myweights': [5,4,3,2,1]\n",
    "    }\n",
    ")\n",
    "\n",
    "df['wavg'] = df['myvalues'].expanding().weighted_average(weights=df['myweights'])\n",
    "df['moving_avg'] = df['myvalues'].expanding().mean()\n",
    "df"
   ]
  },
  {
   "cell_type": "code",
   "execution_count": 3,
   "metadata": {},
   "outputs": [
    {
     "output_type": "display_data",
     "data": {
      "text/plain": "    power commissioning_date  hub_height  diameter nuts_id       lon  \\\n0  1500.0         2002-01-12        61.5      77.0   DE145  9.628233   \n1  1500.0         2002-01-12        61.5      77.0   DE145  9.636193   \n2   750.0         1999-07-07        70.0      48.0   DE145  9.630243   \n\n         lat  \n0  48.532278  \n1  48.532907  \n2  48.391163  ",
      "text/html": "<div>\n<style scoped>\n    .dataframe tbody tr th:only-of-type {\n        vertical-align: middle;\n    }\n\n    .dataframe tbody tr th {\n        vertical-align: top;\n    }\n\n    .dataframe thead th {\n        text-align: right;\n    }\n</style>\n<table border=\"1\" class=\"dataframe\">\n  <thead>\n    <tr style=\"text-align: right;\">\n      <th></th>\n      <th>power</th>\n      <th>commissioning_date</th>\n      <th>hub_height</th>\n      <th>diameter</th>\n      <th>nuts_id</th>\n      <th>lon</th>\n      <th>lat</th>\n    </tr>\n  </thead>\n  <tbody>\n    <tr>\n      <th>0</th>\n      <td>1500.0</td>\n      <td>2002-01-12</td>\n      <td>61.5</td>\n      <td>77.0</td>\n      <td>DE145</td>\n      <td>9.628233</td>\n      <td>48.532278</td>\n    </tr>\n    <tr>\n      <th>1</th>\n      <td>1500.0</td>\n      <td>2002-01-12</td>\n      <td>61.5</td>\n      <td>77.0</td>\n      <td>DE145</td>\n      <td>9.636193</td>\n      <td>48.532907</td>\n    </tr>\n    <tr>\n      <th>2</th>\n      <td>750.0</td>\n      <td>1999-07-07</td>\n      <td>70.0</td>\n      <td>48.0</td>\n      <td>DE145</td>\n      <td>9.630243</td>\n      <td>48.391163</td>\n    </tr>\n  </tbody>\n</table>\n</div>"
     },
     "metadata": {}
    },
    {
     "output_type": "display_data",
     "data": {
      "text/plain": "(24861, 7)"
     },
     "metadata": {}
    }
   ],
   "source": [
    "sensors = pd.read_csv('../data/01_raw/metadata/wind_turbine_data.csv', sep=';',  header = 0, names= ['id', 'power', 'commissioning_date', 'hub_height', 'diameter', 'nuts_id', 'lon', 'lat', 'NUTS1'], usecols= ['power', 'commissioning_date', 'hub_height', 'diameter', 'nuts_id', 'lon', 'lat'], parse_dates= ['commissioning_date'], infer_datetime_format= True)\n",
    "\n",
    "display(sensors.head(3)); display(sensors.shape)"
   ]
  },
  {
   "cell_type": "code",
   "execution_count": 4,
   "metadata": {},
   "outputs": [
    {
     "output_type": "execute_result",
     "data": {
      "text/plain": "      commissioning_date   power        lat       lon\n23455         2016-12-15  3400.0  54.720280  9.301851\n23293         2017-03-13  3050.0  54.389937  9.450079\n23294         2017-03-27  3050.0  54.388749  9.455410",
      "text/html": "<div>\n<style scoped>\n    .dataframe tbody tr th:only-of-type {\n        vertical-align: middle;\n    }\n\n    .dataframe tbody tr th {\n        vertical-align: top;\n    }\n\n    .dataframe thead th {\n        text-align: right;\n    }\n</style>\n<table border=\"1\" class=\"dataframe\">\n  <thead>\n    <tr style=\"text-align: right;\">\n      <th></th>\n      <th>commissioning_date</th>\n      <th>power</th>\n      <th>lat</th>\n      <th>lon</th>\n    </tr>\n  </thead>\n  <tbody>\n    <tr>\n      <th>23455</th>\n      <td>2016-12-15</td>\n      <td>3400.0</td>\n      <td>54.720280</td>\n      <td>9.301851</td>\n    </tr>\n    <tr>\n      <th>23293</th>\n      <td>2017-03-13</td>\n      <td>3050.0</td>\n      <td>54.389937</td>\n      <td>9.450079</td>\n    </tr>\n    <tr>\n      <th>23294</th>\n      <td>2017-03-27</td>\n      <td>3050.0</td>\n      <td>54.388749</td>\n      <td>9.455410</td>\n    </tr>\n  </tbody>\n</table>\n</div>"
     },
     "metadata": {},
     "execution_count": 4
    }
   ],
   "source": [
    "sensors_datesorted = sensors.sort_values('commissioning_date')\n",
    "\n",
    "sensors_datesorted.loc[(sensors['nuts_id']=='DEF0C'), ['commissioning_date', 'power', 'lat', 'lon']].tail(3)"
   ]
  },
  {
   "cell_type": "code",
   "execution_count": 5,
   "metadata": {},
   "outputs": [],
   "source": [
    "def _power_weighted_average(coord):\n",
    "     return np.average(coord, weights=sensors_datesorted.loc[coord.index, 'power'])\n",
    "\n",
    "sensors_daily_aggregated = sensors_datesorted \\\n",
    "    .groupby(by=['nuts_id', 'commissioning_date'], sort=False) \\\n",
    "        .agg(\n",
    "            power = ('power', 'sum'),\n",
    "            lat = ('lat', _power_weighted_average),\n",
    "            lon = ('lon', _power_weighted_average),\n",
    "            )"
   ]
  },
  {
   "cell_type": "code",
   "execution_count": null,
   "metadata": {},
   "outputs": [],
   "source": [
    "sensors_daily_aggregated.tail(3)"
   ]
  },
  {
   "cell_type": "code",
   "execution_count": null,
   "metadata": {},
   "outputs": [],
   "source": [
    "sensors_daily_aggregated.loc[('DEF0C',), :].tail(3)"
   ]
  },
  {
   "cell_type": "code",
   "execution_count": null,
   "metadata": {},
   "outputs": [],
   "source": [
    "power_centroids_mts = sensors_daily_aggregated \\\n",
    "    .groupby(level='nuts_id') \\\n",
    "        .expanding() \\\n",
    "            .weighted_average(weights=sensors_daily_aggregated['power']) \n",
    "\n",
    "power_centroids_mts.loc[('DEF0C',),:].tail(3)"
   ]
  },
  {
   "cell_type": "code",
   "execution_count": null,
   "metadata": {},
   "outputs": [],
   "source": [
    "power_centroids_mts = sensors_daily_aggregated \\\n",
    "    .groupby(level='nuts_id') \\\n",
    "        .expanding() \\\n",
    "            .mean() \n",
    "\n",
    "power_centroids_mts.loc[('DEF0C',),:].tail(3) "
   ]
  },
  {
   "cell_type": "code",
   "execution_count": null,
   "metadata": {},
   "outputs": [],
   "source": [
    "sensors_daily_aggregated['power']"
   ]
  },
  {
   "cell_type": "code",
   "execution_count": null,
   "metadata": {},
   "outputs": [],
   "source": [
    "def weighted_avg(df: pd.DataFrame, vals: str, weights: str) -> pd.Series:\n",
    "    window = pd.DataFrame({'vals':[], 'weights': []})\n",
    "    wavg = []\n",
    "    for v, w in zip(df[vals], df[weights]):\n",
    "        window = window.append({'vals': v, 'weights': w}, ignore_index=True)\n",
    "        wavg.append( window['vals'] * window['weights'] / window['weights'].sum() )\n",
    "    return wavg\n",
    "\n",
    "def weighted_avg2(mydf: pd.DataFrame) -> pd.Series:\n",
    "    window = pd.DataFrame({'vals':[], 'weights': []})\n",
    "    wavg = []\n",
    "    for v, w in zip(mydf['myvalues'], mydf['myweights']):\n",
    "        \n",
    "    return wavg \n",
    "\n",
    "df['wavg_simple'] = df.apply(func=weighted_avg, args=('myvalues', 'myweights'))\n",
    "df"
   ]
  },
  {
   "cell_type": "code",
   "execution_count": null,
   "metadata": {},
   "outputs": [],
   "source": [
    "def wavg():\n",
    "    for nuts_id in :\n",
    "\n",
    "df['wavg'] = df['myvalues'].expanding().weighted_average(weights=df['myweights'])\n",
    "df['moving_avg'] = df['myvalues'].expanding().mean()"
   ]
  },
  {
   "cell_type": "code",
   "execution_count": null,
   "metadata": {},
   "outputs": [],
   "source": [
    "sensors_daily_aggregated.loc[('DEF0C',), :].tail(10)"
   ]
  },
  {
   "cell_type": "code",
   "execution_count": null,
   "metadata": {},
   "outputs": [],
   "source": [
    "def weighted_average(df, data_col, weight_col, by_col, by_col2):\n",
    "    df['_data_times_weight'] = df[data_col] * df[weight_col]\n",
    "    df['_weight_where_notnull'] = df[weight_col] * pd.notnull(df[data_col])\n",
    "    g = df.groupby([by_col, by_col2], sort=False)\n",
    "    result = g['_data_times_weight'].sum() / g['_weight_where_notnull'].sum()\n",
    "    del df['_data_times_weight'], df['_weight_where_notnull']\n",
    "    return result\n",
    "\n",
    "pwr_centroids_lat = weighted_average(df=sensors_daily_aggregated, by_col='nuts_id', by_col2='commissioning_date', data_col='lat', weight_col='power')\n",
    "pwr_centroids_lon = weighted_average(df=sensors_daily_aggregated, by_col='nuts_id', by_col2='commissioning_date', data_col='lon', weight_col='power')\n"
   ]
  },
  {
   "cell_type": "code",
   "execution_count": null,
   "metadata": {},
   "outputs": [],
   "source": [
    "power_centroids_mts = pd.concat([pwr_centroids_lat, pwr_centroids_lon], axis=1)\n",
    "power_centroids_mts.columns = ['lat', 'lon']\n",
    "power_centroids_mts.loc[('DEF0C',), :].tail(10)"
   ]
  },
  {
   "cell_type": "code",
   "execution_count": null,
   "metadata": {},
   "outputs": [],
   "source": [
    "# get_wavg = lambda g: np.average(g['data'], weights = g['weights'])\n",
    "get_wavg = lambda g: np.average(g['lat'], weights = g['power'])\n",
    "\n",
    "grouped = sensors_daily_aggregated.groupby(['nuts_id'])"
   ]
  },
  {
   "cell_type": "code",
   "execution_count": null,
   "metadata": {},
   "outputs": [],
   "source": [
    "grouped"
   ]
  },
  {
   "cell_type": "code",
   "execution_count": null,
   "metadata": {},
   "outputs": [],
   "source": [
    "power_centroids_mts_A = grouped.expanding().apply(get_wavg)"
   ]
  },
  {
   "cell_type": "code",
   "execution_count": null,
   "metadata": {},
   "outputs": [],
   "source": [
    "power_centroids_mts_A.loc[('DEF0C',)].tail(3)"
   ]
  },
  {
   "cell_type": "code",
   "execution_count": null,
   "metadata": {},
   "outputs": [],
   "source": [
    "power_centroids_mts.loc['DEF0C'].tail(3)"
   ]
  },
  {
   "cell_type": "code",
   "execution_count": null,
   "metadata": {},
   "outputs": [],
   "source": [
    "window = pd.DataFrame( {'vals':[1,2,3], 'weights': [4,5,6]})\n",
    "window = window.append({'vals': 4, 'weights': 7}, ignore_index=True)\n",
    "window['vals'] * window['weights']"
   ]
  },
  {
   "cell_type": "code",
   "execution_count": null,
   "metadata": {},
   "outputs": [],
   "source": [
    "s = pd.Series([1, 2, 3, 4, 5])\n",
    "\n",
    "display( s )\n",
    "display( s.cumsum() )\n",
    "display( s.expanding().sum() )\n",
    "display( s.expanding().agg(func=sum) )\n",
    "display( s.expanding().apply(func=np.sum) )"
   ]
  },
  {
   "cell_type": "code",
   "execution_count": null,
   "metadata": {},
   "outputs": [],
   "source": [
    "import weightedcalcs as wc\n",
    "calc = wc.Calculator(\"power\") "
   ]
  },
  {
   "cell_type": "code",
   "execution_count": null,
   "metadata": {},
   "outputs": [],
   "source": [
    "sensors_daily_aggregated.columns"
   ]
  },
  {
   "cell_type": "code",
   "execution_count": null,
   "metadata": {},
   "outputs": [],
   "source": [
    "grouped = sensors_daily_aggregated.groupby(['nuts_id'])"
   ]
  },
  {
   "cell_type": "code",
   "execution_count": null,
   "metadata": {},
   "outputs": [],
   "source": [
    "expmean = grouped.expanding()['lat'].mean()\n",
    "\n",
    "expmean.tail(3)"
   ]
  },
  {
   "cell_type": "code",
   "execution_count": null,
   "metadata": {},
   "outputs": [],
   "source": []
  },
  {
   "cell_type": "code",
   "execution_count": null,
   "metadata": {},
   "outputs": [],
   "source": [
    "calc.mean(grouped.expanding(), 'lat')"
   ]
  },
  {
   "cell_type": "code",
   "execution_count": null,
   "metadata": {},
   "outputs": [],
   "source": [
    "sensors_daily_aggregated.loc[('DEF0C',), :].tail(3)"
   ]
  },
  {
   "cell_type": "code",
   "execution_count": null,
   "metadata": {},
   "outputs": [],
   "source": [
    "sensors_datesorted.loc[sensors_datesorted.nuts_id=='DEF0C', ['commissioning_date', 'power', 'lat', 'lon']].tail()"
   ]
  },
  {
   "cell_type": "code",
   "execution_count": null,
   "metadata": {},
   "outputs": [],
   "source": [
    "df = sensors_datesorted.groupby('nuts_id').expanding().apply(lambda x: x['lat'] * x['power'] / x['power'].sum() )"
   ]
  },
  {
   "cell_type": "code",
   "execution_count": null,
   "metadata": {},
   "outputs": [],
   "source": [
    "static_lat = sensors_datesorted.groupby('nuts_id').apply(lambda x: (x['lat'] * x['power']).sum() / x['power'].sum() )\n"
   ]
  },
  {
   "cell_type": "code",
   "execution_count": null,
   "metadata": {},
   "outputs": [],
   "source": [
    "dynamic_lat = sensors_datesorted.groupby('nuts_id').expanding().apply(lambda x: (x['lat'] * x['power']).sum() / x['power'].sum() )"
   ]
  },
  {
   "cell_type": "code",
   "execution_count": null,
   "metadata": {},
   "outputs": [],
   "source": [
    "sensors_datesorted.tail()"
   ]
  },
  {
   "cell_type": "code",
   "execution_count": 9,
   "metadata": {},
   "outputs": [
    {
     "output_type": "execute_result",
     "data": {
      "text/plain": "                   nuts_id   power        lat       lon\ncommissioning_date                                     \n2016-12-15           DEF0C  3400.0  54.720280  9.301851\n2017-03-13           DEF0C  3050.0  54.389937  9.450079\n2017-03-27           DEF0C  3050.0  54.388749  9.455410",
      "text/html": "<div>\n<style scoped>\n    .dataframe tbody tr th:only-of-type {\n        vertical-align: middle;\n    }\n\n    .dataframe tbody tr th {\n        vertical-align: top;\n    }\n\n    .dataframe thead th {\n        text-align: right;\n    }\n</style>\n<table border=\"1\" class=\"dataframe\">\n  <thead>\n    <tr style=\"text-align: right;\">\n      <th></th>\n      <th>nuts_id</th>\n      <th>power</th>\n      <th>lat</th>\n      <th>lon</th>\n    </tr>\n    <tr>\n      <th>commissioning_date</th>\n      <th></th>\n      <th></th>\n      <th></th>\n      <th></th>\n    </tr>\n  </thead>\n  <tbody>\n    <tr>\n      <th>2016-12-15</th>\n      <td>DEF0C</td>\n      <td>3400.0</td>\n      <td>54.720280</td>\n      <td>9.301851</td>\n    </tr>\n    <tr>\n      <th>2017-03-13</th>\n      <td>DEF0C</td>\n      <td>3050.0</td>\n      <td>54.389937</td>\n      <td>9.450079</td>\n    </tr>\n    <tr>\n      <th>2017-03-27</th>\n      <td>DEF0C</td>\n      <td>3050.0</td>\n      <td>54.388749</td>\n      <td>9.455410</td>\n    </tr>\n  </tbody>\n</table>\n</div>"
     },
     "metadata": {},
     "execution_count": 9
    }
   ],
   "source": [
    "single_district_data = sensors_daily_aggregated_simpleindex.loc[sensors_daily_aggregated_simpleindex['nuts_id'] == 'DEF0C'].set_index('commissioning_date')\n",
    "single_district_data.tail(3)"
   ]
  },
  {
   "cell_type": "code",
   "execution_count": null,
   "metadata": {},
   "outputs": [],
   "source": [
    "single_district_data[['lat', 'lon']].mean()"
   ]
  },
  {
   "cell_type": "code",
   "execution_count": null,
   "metadata": {},
   "outputs": [],
   "source": [
    "single_district_data.expanding().apply(np.mean)"
   ]
  },
  {
   "cell_type": "code",
   "execution_count": null,
   "metadata": {},
   "outputs": [],
   "source": [
    "single_district_data.expanding().apply( lambda x: np.mean(x) )"
   ]
  },
  {
   "cell_type": "code",
   "execution_count": null,
   "metadata": {},
   "outputs": [],
   "source": [
    "single_district_data.rolling(window=len(single_district_data), min_periods=1, axis=0).apply( lambda x: x.sum() , raw=False)"
   ]
  },
  {
   "cell_type": "code",
   "execution_count": null,
   "metadata": {},
   "outputs": [],
   "source": [
    "single_district_data.rolling(window=len(single_district_data), min_periods=1, axis=0).apply( func=np.average, kwargs={'axis': 0, 'weights': single_district_data['power']} )"
   ]
  },
  {
   "cell_type": "code",
   "execution_count": 7,
   "metadata": {},
   "outputs": [
    {
     "output_type": "execute_result",
     "data": {
      "text/plain": "      nuts_id commissioning_date   power        lat        lon\n13586   DEE0D         2017-11-01  3000.0  52.840646  11.596993\n13587   DE724         2017-11-01  2400.0  50.884330   8.491895\n13588   DE11D         2017-11-01  3000.0  49.034109  10.177751\n13589   DEB15         2017-11-03  2400.0  49.639484   7.206280\n13590   DEB3H         2017-12-01  3300.0  49.170525   8.239301",
      "text/html": "<div>\n<style scoped>\n    .dataframe tbody tr th:only-of-type {\n        vertical-align: middle;\n    }\n\n    .dataframe tbody tr th {\n        vertical-align: top;\n    }\n\n    .dataframe thead th {\n        text-align: right;\n    }\n</style>\n<table border=\"1\" class=\"dataframe\">\n  <thead>\n    <tr style=\"text-align: right;\">\n      <th></th>\n      <th>nuts_id</th>\n      <th>commissioning_date</th>\n      <th>power</th>\n      <th>lat</th>\n      <th>lon</th>\n    </tr>\n  </thead>\n  <tbody>\n    <tr>\n      <th>13586</th>\n      <td>DEE0D</td>\n      <td>2017-11-01</td>\n      <td>3000.0</td>\n      <td>52.840646</td>\n      <td>11.596993</td>\n    </tr>\n    <tr>\n      <th>13587</th>\n      <td>DE724</td>\n      <td>2017-11-01</td>\n      <td>2400.0</td>\n      <td>50.884330</td>\n      <td>8.491895</td>\n    </tr>\n    <tr>\n      <th>13588</th>\n      <td>DE11D</td>\n      <td>2017-11-01</td>\n      <td>3000.0</td>\n      <td>49.034109</td>\n      <td>10.177751</td>\n    </tr>\n    <tr>\n      <th>13589</th>\n      <td>DEB15</td>\n      <td>2017-11-03</td>\n      <td>2400.0</td>\n      <td>49.639484</td>\n      <td>7.206280</td>\n    </tr>\n    <tr>\n      <th>13590</th>\n      <td>DEB3H</td>\n      <td>2017-12-01</td>\n      <td>3300.0</td>\n      <td>49.170525</td>\n      <td>8.239301</td>\n    </tr>\n  </tbody>\n</table>\n</div>"
     },
     "metadata": {},
     "execution_count": 7
    }
   ],
   "source": [
    "sensors_daily_aggregated_simpleindex = sensors_daily_aggregated.reset_index()\n",
    "\n",
    "sensors_daily_aggregated_simpleindex.tail()"
   ]
  },
  {
   "cell_type": "code",
   "execution_count": 13,
   "metadata": {},
   "outputs": [
    {
     "output_type": "execute_result",
     "data": {
      "text/plain": "                          lat       lon\ncommissioning_date                     \n2016-09-28          54.522999  9.402982\n2016-12-13          54.385309  9.464164\n2016-12-15          54.720280  9.301851\n2017-03-13          54.389937  9.450079\n2017-03-27          54.388749  9.455410",
      "text/html": "<div>\n<style scoped>\n    .dataframe tbody tr th:only-of-type {\n        vertical-align: middle;\n    }\n\n    .dataframe tbody tr th {\n        vertical-align: top;\n    }\n\n    .dataframe thead th {\n        text-align: right;\n    }\n</style>\n<table border=\"1\" class=\"dataframe\">\n  <thead>\n    <tr style=\"text-align: right;\">\n      <th></th>\n      <th>lat</th>\n      <th>lon</th>\n    </tr>\n    <tr>\n      <th>commissioning_date</th>\n      <th></th>\n      <th></th>\n    </tr>\n  </thead>\n  <tbody>\n    <tr>\n      <th>2016-09-28</th>\n      <td>54.522999</td>\n      <td>9.402982</td>\n    </tr>\n    <tr>\n      <th>2016-12-13</th>\n      <td>54.385309</td>\n      <td>9.464164</td>\n    </tr>\n    <tr>\n      <th>2016-12-15</th>\n      <td>54.720280</td>\n      <td>9.301851</td>\n    </tr>\n    <tr>\n      <th>2017-03-13</th>\n      <td>54.389937</td>\n      <td>9.450079</td>\n    </tr>\n    <tr>\n      <th>2017-03-27</th>\n      <td>54.388749</td>\n      <td>9.455410</td>\n    </tr>\n  </tbody>\n</table>\n</div>"
     },
     "metadata": {},
     "execution_count": 13
    }
   ],
   "source": [
    "single_district_data[['lat', 'lon']].tail()"
   ]
  },
  {
   "cell_type": "code",
   "execution_count": 12,
   "metadata": {},
   "outputs": [
    {
     "output_type": "execute_result",
     "data": {
      "text/plain": "                          lat       lon\ncommissioning_date                     \n2016-09-28          54.671404  9.306583\n2016-12-13          54.670255  9.307216\n2016-12-15          54.670455  9.307194\n2017-03-13          54.669452  9.307705\n2017-03-27          54.668452  9.308232",
      "text/html": "<div>\n<style scoped>\n    .dataframe tbody tr th:only-of-type {\n        vertical-align: middle;\n    }\n\n    .dataframe tbody tr th {\n        vertical-align: top;\n    }\n\n    .dataframe thead th {\n        text-align: right;\n    }\n</style>\n<table border=\"1\" class=\"dataframe\">\n  <thead>\n    <tr style=\"text-align: right;\">\n      <th></th>\n      <th>lat</th>\n      <th>lon</th>\n    </tr>\n    <tr>\n      <th>commissioning_date</th>\n      <th></th>\n      <th></th>\n    </tr>\n  </thead>\n  <tbody>\n    <tr>\n      <th>2016-09-28</th>\n      <td>54.671404</td>\n      <td>9.306583</td>\n    </tr>\n    <tr>\n      <th>2016-12-13</th>\n      <td>54.670255</td>\n      <td>9.307216</td>\n    </tr>\n    <tr>\n      <th>2016-12-15</th>\n      <td>54.670455</td>\n      <td>9.307194</td>\n    </tr>\n    <tr>\n      <th>2017-03-13</th>\n      <td>54.669452</td>\n      <td>9.307705</td>\n    </tr>\n    <tr>\n      <th>2017-03-27</th>\n      <td>54.668452</td>\n      <td>9.308232</td>\n    </tr>\n  </tbody>\n</table>\n</div>"
     },
     "metadata": {},
     "execution_count": 12
    }
   ],
   "source": [
    "power_centroids_ts = single_district_data[['lat', 'lon']] \\\n",
    ".expanding() \\\n",
    ".weighted_average(weights=single_district_data['power']) \n",
    "\n",
    "power_centroids_ts.tail()"
   ]
  }
 ]
}