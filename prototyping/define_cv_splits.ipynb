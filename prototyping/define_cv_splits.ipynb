{
 "cells": [
  {
   "cell_type": "code",
   "execution_count": 13,
   "metadata": {},
   "outputs": [],
   "source": [
    "import os\n",
    "import pickle\n",
    "import pandas as pd"
   ]
  },
  {
   "cell_type": "code",
   "execution_count": 5,
   "metadata": {},
   "outputs": [
    {
     "data": {
      "text/plain": [
       "'/home/jonasmmiguel/Documents/learning/poli/thesis/wind-stf/prototyping'"
      ]
     },
     "execution_count": 5,
     "metadata": {},
     "output_type": "execute_result"
    }
   ],
   "source": [
    "os.getcwd()"
   ]
  },
  {
   "cell_type": "markdown",
   "metadata": {},
   "source": [
    "# define CV splits"
   ]
  },
  {
   "cell_type": "code",
   "execution_count": 16,
   "metadata": {},
   "outputs": [
    {
     "data": {
      "text/html": [
       "<div>\n",
       "<style scoped>\n",
       "    .dataframe tbody tr th:only-of-type {\n",
       "        vertical-align: middle;\n",
       "    }\n",
       "\n",
       "    .dataframe tbody tr th {\n",
       "        vertical-align: top;\n",
       "    }\n",
       "\n",
       "    .dataframe thead th {\n",
       "        text-align: right;\n",
       "    }\n",
       "</style>\n",
       "<table border=\"1\" class=\"dataframe\">\n",
       "  <thead>\n",
       "    <tr style=\"text-align: right;\">\n",
       "      <th></th>\n",
       "      <th>DE145</th>\n",
       "      <th>DE114</th>\n",
       "      <th>DE146</th>\n",
       "      <th>DE132</th>\n",
       "      <th>DE12A</th>\n",
       "      <th>DE133</th>\n",
       "      <th>DE12C</th>\n",
       "      <th>DE11C</th>\n",
       "      <th>DE118</th>\n",
       "      <th>DE119</th>\n",
       "      <th>...</th>\n",
       "      <th>DEG01</th>\n",
       "      <th>DEG0F</th>\n",
       "      <th>DE275</th>\n",
       "      <th>DE21C</th>\n",
       "      <th>DE234</th>\n",
       "      <th>DE251</th>\n",
       "      <th>DE276</th>\n",
       "      <th>DE278</th>\n",
       "      <th>DE718</th>\n",
       "      <th>DE943</th>\n",
       "    </tr>\n",
       "    <tr>\n",
       "      <th>date</th>\n",
       "      <th></th>\n",
       "      <th></th>\n",
       "      <th></th>\n",
       "      <th></th>\n",
       "      <th></th>\n",
       "      <th></th>\n",
       "      <th></th>\n",
       "      <th></th>\n",
       "      <th></th>\n",
       "      <th></th>\n",
       "      <th></th>\n",
       "      <th></th>\n",
       "      <th></th>\n",
       "      <th></th>\n",
       "      <th></th>\n",
       "      <th></th>\n",
       "      <th></th>\n",
       "      <th></th>\n",
       "      <th></th>\n",
       "      <th></th>\n",
       "      <th></th>\n",
       "    </tr>\n",
       "  </thead>\n",
       "  <tbody>\n",
       "    <tr>\n",
       "      <th>2013-01-01</th>\n",
       "      <td>0.219507</td>\n",
       "      <td>0.269458</td>\n",
       "      <td>0.240540</td>\n",
       "      <td>0.263019</td>\n",
       "      <td>0.593148</td>\n",
       "      <td>0.331149</td>\n",
       "      <td>0.555176</td>\n",
       "      <td>0.284140</td>\n",
       "      <td>0.357407</td>\n",
       "      <td>0.410291</td>\n",
       "      <td>...</td>\n",
       "      <td>0.300818</td>\n",
       "      <td>0.363388</td>\n",
       "      <td>0.0</td>\n",
       "      <td>0.0</td>\n",
       "      <td>0.0</td>\n",
       "      <td>0.0</td>\n",
       "      <td>0.0</td>\n",
       "      <td>0.0</td>\n",
       "      <td>0.0</td>\n",
       "      <td>0.0</td>\n",
       "    </tr>\n",
       "    <tr>\n",
       "      <th>2013-01-02</th>\n",
       "      <td>0.083655</td>\n",
       "      <td>0.063571</td>\n",
       "      <td>0.043303</td>\n",
       "      <td>0.005984</td>\n",
       "      <td>0.080731</td>\n",
       "      <td>0.007986</td>\n",
       "      <td>0.066120</td>\n",
       "      <td>0.083709</td>\n",
       "      <td>0.078740</td>\n",
       "      <td>0.108224</td>\n",
       "      <td>...</td>\n",
       "      <td>0.150699</td>\n",
       "      <td>0.133930</td>\n",
       "      <td>0.0</td>\n",
       "      <td>0.0</td>\n",
       "      <td>0.0</td>\n",
       "      <td>0.0</td>\n",
       "      <td>0.0</td>\n",
       "      <td>0.0</td>\n",
       "      <td>0.0</td>\n",
       "      <td>0.0</td>\n",
       "    </tr>\n",
       "    <tr>\n",
       "      <th>2013-01-03</th>\n",
       "      <td>0.246707</td>\n",
       "      <td>0.229298</td>\n",
       "      <td>0.337413</td>\n",
       "      <td>0.047907</td>\n",
       "      <td>0.279092</td>\n",
       "      <td>0.136004</td>\n",
       "      <td>0.237430</td>\n",
       "      <td>0.320095</td>\n",
       "      <td>0.460150</td>\n",
       "      <td>0.516133</td>\n",
       "      <td>...</td>\n",
       "      <td>0.348737</td>\n",
       "      <td>0.297686</td>\n",
       "      <td>0.0</td>\n",
       "      <td>0.0</td>\n",
       "      <td>0.0</td>\n",
       "      <td>0.0</td>\n",
       "      <td>0.0</td>\n",
       "      <td>0.0</td>\n",
       "      <td>0.0</td>\n",
       "      <td>0.0</td>\n",
       "    </tr>\n",
       "  </tbody>\n",
       "</table>\n",
       "<p>3 rows × 292 columns</p>\n",
       "</div>"
      ],
      "text/plain": [
       "               DE145     DE114     DE146     DE132     DE12A     DE133  \\\n",
       "date                                                                     \n",
       "2013-01-01  0.219507  0.269458  0.240540  0.263019  0.593148  0.331149   \n",
       "2013-01-02  0.083655  0.063571  0.043303  0.005984  0.080731  0.007986   \n",
       "2013-01-03  0.246707  0.229298  0.337413  0.047907  0.279092  0.136004   \n",
       "\n",
       "               DE12C     DE11C     DE118     DE119  ...     DEG01     DEG0F  \\\n",
       "date                                                ...                       \n",
       "2013-01-01  0.555176  0.284140  0.357407  0.410291  ...  0.300818  0.363388   \n",
       "2013-01-02  0.066120  0.083709  0.078740  0.108224  ...  0.150699  0.133930   \n",
       "2013-01-03  0.237430  0.320095  0.460150  0.516133  ...  0.348737  0.297686   \n",
       "\n",
       "            DE275  DE21C  DE234  DE251  DE276  DE278  DE718  DE943  \n",
       "date                                                                \n",
       "2013-01-01    0.0    0.0    0.0    0.0    0.0    0.0    0.0    0.0  \n",
       "2013-01-02    0.0    0.0    0.0    0.0    0.0    0.0    0.0    0.0  \n",
       "2013-01-03    0.0    0.0    0.0    0.0    0.0    0.0    0.0    0.0  \n",
       "\n",
       "[3 rows x 292 columns]"
      ]
     },
     "execution_count": 16,
     "metadata": {},
     "output_type": "execute_result"
    }
   ],
   "source": [
    "df_infer = capacity_factors_daily_2000to2015 = pd.read_hdf(\n",
    "    path_or_buf='../data/05_model_input/df_infer.hdf', \n",
    "    key='df_infer'\n",
    ")\n",
    "\n",
    "df_infer.head(3)"
   ]
  },
  {
   "cell_type": "code",
   "execution_count": 166,
   "metadata": {},
   "outputs": [],
   "source": [
    "cv_params = {\n",
    "    'method': 'expanding_windows',\n",
    "    'relsize_shortest_train_window': 0.6,\n",
    "     # 'train_window_relsize_last_pass': 1.0,  # always considered to be 1.0 \n",
    "    'n_passes': 3,\n",
    "    'steps_ahead': 1,\n",
    "    'size_forecast_window': 7,\n",
    "}"
   ]
  },
  {
   "cell_type": "code",
   "execution_count": 167,
   "metadata": {},
   "outputs": [],
   "source": [
    "cv_method = cv_params['method']\n",
    "n_passes = cv_params['n_passes']\n",
    "relsize_shortest_train_window = cv_params['relsize_shortest_train_window']\n",
    "size_forecasting_window = cv_params['size_forecast_window']\n",
    "steps_ahead = cv_params['steps_ahead']"
   ]
  },
  {
   "cell_type": "code",
   "execution_count": 164,
   "metadata": {},
   "outputs": [
    {
     "data": {
      "text/plain": [
       "903"
      ]
     },
     "execution_count": 164,
     "metadata": {},
     "output_type": "execute_result"
    }
   ],
   "source": [
    "len(df_infer) "
   ]
  },
  {
   "cell_type": "code",
   "execution_count": 168,
   "metadata": {},
   "outputs": [
    {
     "data": {
      "text/plain": [
       "903"
      ]
     },
     "execution_count": 168,
     "metadata": {},
     "output_type": "execute_result"
    }
   ],
   "source": [
    "train_end_idx + forecasting_window_size"
   ]
  },
  {
   "cell_type": "code",
   "execution_count": 169,
   "metadata": {},
   "outputs": [],
   "source": [
    "import numpy as np"
   ]
  },
  {
   "cell_type": "code",
   "execution_count": 173,
   "metadata": {},
   "outputs": [],
   "source": [
    "cv_splits = {}\n",
    "\n",
    "# max train size so that train  + gap (steps_ahead) + val still fit in inference data\n",
    "relsize_longest_train_window = 1 - ((steps_ahead - 1) + size_forecasting_window) / len(df_infer)\n",
    "\n",
    "window_relsize = np.linspace(\n",
    "    start=relsize_shortest_train_window, \n",
    "    stop=relsize_longest_train_window, \n",
    "    num=n_passes\n",
    ")\n",
    "\n",
    "for p in range(n_passes):\n",
    "    pass_id = 'pass ' + str(p + 1)\n",
    "    \n",
    "    train_end_idx = round(window_relsize[p] * len(df_infer))    \n",
    "\n",
    "    cv_splits[pass_id] = {\n",
    "        'train': slice(0, train_end_idx),\n",
    "        'val': slice(train_end_idx, train_end_idx + size_forecasting_window)\n",
    "    }  "
   ]
  },
  {
   "cell_type": "code",
   "execution_count": 171,
   "metadata": {},
   "outputs": [
    {
     "data": {
      "text/plain": [
       "{'pass 1': {'train': slice(0, 542, None), 'val': slice(542, 549, None)},\n",
       " 'pass 2': {'train': slice(0, 719, None), 'val': slice(719, 726, None)},\n",
       " 'pass 3': {'train': slice(0, 896, None), 'val': slice(896, 903, None)}}"
      ]
     },
     "execution_count": 171,
     "metadata": {},
     "output_type": "execute_result"
    }
   ],
   "source": [
    "cv_splits"
   ]
  },
  {
   "cell_type": "code",
   "execution_count": 172,
   "metadata": {},
   "outputs": [
    {
     "data": {
      "text/plain": [
       "DatetimeIndex(['2015-06-16', '2015-06-17', '2015-06-18', '2015-06-19',\n",
       "               '2015-06-20', '2015-06-21', '2015-06-22'],\n",
       "              dtype='datetime64[ns]', name='date', freq='D')"
      ]
     },
     "execution_count": 172,
     "metadata": {},
     "output_type": "execute_result"
    }
   ],
   "source": [
    "df_infer[ cv_splits['pass 3']['val'] ].index"
   ]
  }
 ],
 "metadata": {
  "kernelspec": {
   "display_name": "wind_stf",
   "language": "python",
   "name": "wind_stf"
  },
  "language_info": {
   "codemirror_mode": {
    "name": "ipython",
    "version": 3
   },
   "file_extension": ".py",
   "mimetype": "text/x-python",
   "name": "python",
   "nbconvert_exporter": "python",
   "pygments_lexer": "ipython3",
   "version": "3.8.2"
  }
 },
 "nbformat": 4,
 "nbformat_minor": 4
}
