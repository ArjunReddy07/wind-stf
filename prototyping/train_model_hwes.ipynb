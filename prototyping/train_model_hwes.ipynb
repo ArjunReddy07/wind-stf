{
 "cells": [
  {
   "cell_type": "code",
   "execution_count": 27,
   "metadata": {},
   "outputs": [],
   "source": [
    "import pickle\n",
    "import pandas as pd\n",
    "import numpy as np\n",
    "from sklearn.preprocessing import QuantileTransformer\n",
    "from statsmodels.tsa.holtwinters import ExponentialSmoothing\n",
    "import matplotlib.pyplot as plt"
   ]
  },
  {
   "cell_type": "code",
   "execution_count": 28,
   "metadata": {},
   "outputs": [],
   "source": [
    "with open('../data/05_model_input/cv_splits_dict.pkl/2020-08-28T04.48.19.250Z/cv_splits_dict.pkl', 'rb') as pkl_file:\n",
    "    cv_splits_dict = pickle.load(pkl_file)\n",
    "    \n",
    "df_spatiotemporal = capacity_factors_daily_2000to2015 = pd.read_hdf(\n",
    "    path_or_buf='../data/05_model_input/df_spatiotemporal.hdf', \n",
    "    key='df_spatiotemporal'\n",
    ")"
   ]
  },
  {
   "cell_type": "code",
   "execution_count": 29,
   "metadata": {},
   "outputs": [
    {
     "data": {
      "text/plain": [
       "Index(['DE111', 'DE114', 'DE115', 'DE116', 'DE118', 'DE119', 'DE11A', 'DE11B',\n",
       "       'DE11C', 'DE11D',\n",
       "       ...\n",
       "       'DEG0E', 'DEG0F', 'DEG0G', 'DEG0I', 'DEG0J', 'DEG0K', 'DEG0L', 'DEG0M',\n",
       "       'DEG0N', 'DEG0P'],\n",
       "      dtype='object', name='district', length=292)"
      ]
     },
     "execution_count": 29,
     "metadata": {},
     "output_type": "execute_result"
    }
   ],
   "source": [
    "df_spatiotemporal['temporal'].columns.get_level_values('district')"
   ]
  },
  {
   "cell_type": "code",
   "execution_count": 30,
   "metadata": {
    "scrolled": true
   },
   "outputs": [
    {
     "data": {
      "text/html": [
       "<div>\n",
       "<style scoped>\n",
       "    .dataframe tbody tr th:only-of-type {\n",
       "        vertical-align: middle;\n",
       "    }\n",
       "\n",
       "    .dataframe tbody tr th {\n",
       "        vertical-align: top;\n",
       "    }\n",
       "\n",
       "    .dataframe thead th {\n",
       "        text-align: right;\n",
       "    }\n",
       "</style>\n",
       "<table border=\"1\" class=\"dataframe\">\n",
       "  <thead>\n",
       "    <tr style=\"text-align: right;\">\n",
       "      <th>var</th>\n",
       "      <th>power</th>\n",
       "    </tr>\n",
       "  </thead>\n",
       "  <tbody>\n",
       "    <tr>\n",
       "      <th>2013-01-01</th>\n",
       "      <td>0.298824</td>\n",
       "    </tr>\n",
       "    <tr>\n",
       "      <th>2013-01-02</th>\n",
       "      <td>0.277085</td>\n",
       "    </tr>\n",
       "    <tr>\n",
       "      <th>2013-01-03</th>\n",
       "      <td>0.561925</td>\n",
       "    </tr>\n",
       "    <tr>\n",
       "      <th>2013-01-04</th>\n",
       "      <td>0.603515</td>\n",
       "    </tr>\n",
       "    <tr>\n",
       "      <th>2013-01-05</th>\n",
       "      <td>0.139887</td>\n",
       "    </tr>\n",
       "    <tr>\n",
       "      <th>...</th>\n",
       "      <td>...</td>\n",
       "    </tr>\n",
       "    <tr>\n",
       "      <th>2015-12-27</th>\n",
       "      <td>0.652169</td>\n",
       "    </tr>\n",
       "    <tr>\n",
       "      <th>2015-12-28</th>\n",
       "      <td>0.313875</td>\n",
       "    </tr>\n",
       "    <tr>\n",
       "      <th>2015-12-29</th>\n",
       "      <td>0.591666</td>\n",
       "    </tr>\n",
       "    <tr>\n",
       "      <th>2015-12-30</th>\n",
       "      <td>0.460236</td>\n",
       "    </tr>\n",
       "    <tr>\n",
       "      <th>2015-12-31</th>\n",
       "      <td>0.479363</td>\n",
       "    </tr>\n",
       "  </tbody>\n",
       "</table>\n",
       "<p>1095 rows × 1 columns</p>\n",
       "</div>"
      ],
      "text/plain": [
       "var            power\n",
       "2013-01-01  0.298824\n",
       "2013-01-02  0.277085\n",
       "2013-01-03  0.561925\n",
       "2013-01-04  0.603515\n",
       "2013-01-05  0.139887\n",
       "...              ...\n",
       "2015-12-27  0.652169\n",
       "2015-12-28  0.313875\n",
       "2015-12-29  0.591666\n",
       "2015-12-30  0.460236\n",
       "2015-12-31  0.479363\n",
       "\n",
       "[1095 rows x 1 columns]"
      ]
     },
     "execution_count": 30,
     "metadata": {},
     "output_type": "execute_result"
    }
   ],
   "source": [
    "df_spatiotemporal['temporal']['DEF0C']"
   ]
  },
  {
   "cell_type": "code",
   "execution_count": 31,
   "metadata": {},
   "outputs": [
    {
     "data": {
      "text/plain": [
       "Series([], dtype: object)"
      ]
     },
     "execution_count": 31,
     "metadata": {},
     "output_type": "execute_result"
    }
   ],
   "source": [
    "df = df_spatiotemporal['temporal'] \n",
    "# df.loc[ ~np.isfinite(df).any(1) ]\n",
    "df.columns.to_series()[np.isinf(df).any()]"
   ]
  },
  {
   "cell_type": "code",
   "execution_count": 32,
   "metadata": {},
   "outputs": [
    {
     "data": {
      "text/plain": [
       "0"
      ]
     },
     "metadata": {},
     "output_type": "display_data"
    },
    {
     "data": {
      "text/plain": [
       "0"
      ]
     },
     "metadata": {},
     "output_type": "display_data"
    }
   ],
   "source": [
    "display( df_spatiotemporal['temporal'].isna().sum().sum(),\n",
    "         df_spatiotemporal['temporal'].size - np.isfinite( df_spatiotemporal['temporal'] ).sum().sum(),\n",
    "       )"
   ]
  },
  {
   "cell_type": "code",
   "execution_count": 34,
   "metadata": {},
   "outputs": [],
   "source": [
    "quantile_transformer = QuantileTransformer(\n",
    "    output_distribution='normal', \n",
    "    random_state=0)\n",
    "\n",
    "quantile_transformer = quantile_transformer.fit( \n",
    "    df_spatiotemporal['temporal'].loc[:'2014-12-31']\n",
    ")"
   ]
  },
  {
   "cell_type": "code",
   "execution_count": 35,
   "metadata": {},
   "outputs": [
    {
     "ename": "TypeError",
     "evalue": "transform() missing 1 required positional argument: 'func'",
     "output_type": "error",
     "traceback": [
      "\u001b[0;31m---------------------------------------------------------------------------\u001b[0m",
      "\u001b[0;31mTypeError\u001b[0m                                 Traceback (most recent call last)",
      "\u001b[0;32m<ipython-input-35-21f2d5ec92b9>\u001b[0m in \u001b[0;36m<module>\u001b[0;34m\u001b[0m\n\u001b[0;32m----> 1\u001b[0;31m \u001b[0mdf_spatiotemporal\u001b[0m\u001b[0;34m[\u001b[0m\u001b[0;34m'temporal'\u001b[0m\u001b[0;34m]\u001b[0m\u001b[0;34m.\u001b[0m\u001b[0mtransform\u001b[0m\u001b[0;34m(\u001b[0m\u001b[0;34m)\u001b[0m\u001b[0;34m\u001b[0m\u001b[0;34m\u001b[0m\u001b[0m\n\u001b[0m",
      "\u001b[0;31mTypeError\u001b[0m: transform() missing 1 required positional argument: 'func'"
     ]
    }
   ],
   "source": [
    "df_spatiotemporal['temporal'].transform()"
   ]
  },
  {
   "cell_type": "code",
   "execution_count": 16,
   "metadata": {},
   "outputs": [
    {
     "data": {
      "image/png": "[encoded data removed]",
      "text/plain": [
       "<Figure size 432x288 with 1 Axes>"
      ]
     },
     "metadata": {
      "needs_background": "light"
     },
     "output_type": "display_data"
    },
    {
     "data": {
      "image/png": "[encoded data removed]",
      "text/plain": [
       "<Figure size 432x288 with 1 Axes>"
      ]
     },
     "metadata": {
      "needs_background": "light"
     },
     "output_type": "display_data"
    }
   ],
   "source": [
    "ax = df_spatiotemporal['temporal'].plot.density(legend=False)\n",
    "ax2 = df_spatiotemporal['temporal']['DEF0C'].plot.density(legend=False)\n",
    "plt.show()"
   ]
  },
  {
   "cell_type": "code",
   "execution_count": 17,
   "metadata": {},
   "outputs": [],
   "source": [
    "def _split_train_test(df, cv_splits_dict, pass_id: str):\n",
    "    train_idx_start = cv_splits_dict[pass_id]['train_idx'][0]\n",
    "    train_idx_end = cv_splits_dict[pass_id]['train_idx'][1]\n",
    "\n",
    "    test_idx_start = cv_splits_dict[pass_id]['test_idx'][0]\n",
    "    test_idx_end = cv_splits_dict[pass_id]['test_idx'][1]\n",
    "\n",
    "    return {\n",
    "        'train': df.iloc[train_idx_start:train_idx_end, :],\n",
    "        'test': df.iloc[test_idx_start:test_idx_end, :],\n",
    "    }"
   ]
  },
  {
   "cell_type": "code",
   "execution_count": 11,
   "metadata": {},
   "outputs": [
    {
     "ename": "NameError",
     "evalue": "name 'ts' is not defined",
     "output_type": "error",
     "traceback": [
      "\u001b[0;31m---------------------------------------------------------------------------\u001b[0m",
      "\u001b[0;31mNameError\u001b[0m                                 Traceback (most recent call last)",
      "\u001b[0;32m<ipython-input-11-b0cfa8b582cb>\u001b[0m in \u001b[0;36m<module>\u001b[0;34m\u001b[0m\n\u001b[0;32m----> 1\u001b[0;31m \u001b[0my\u001b[0m \u001b[0;34m=\u001b[0m \u001b[0m_split_train_test\u001b[0m\u001b[0;34m(\u001b[0m\u001b[0mts\u001b[0m\u001b[0;34m,\u001b[0m \u001b[0mcv_splits_dict\u001b[0m\u001b[0;34m,\u001b[0m \u001b[0mpass_id\u001b[0m\u001b[0;34m=\u001b[0m\u001b[0;34m'pass_2'\u001b[0m\u001b[0;34m)\u001b[0m\u001b[0;34m\u001b[0m\u001b[0;34m\u001b[0m\u001b[0m\n\u001b[0m\u001b[1;32m      2\u001b[0m \u001b[0;34m\u001b[0m\u001b[0m\n\u001b[1;32m      3\u001b[0m \u001b[0mdisplay\u001b[0m\u001b[0;34m(\u001b[0m\u001b[0my\u001b[0m\u001b[0;34m[\u001b[0m\u001b[0;34m'train'\u001b[0m\u001b[0;34m]\u001b[0m\u001b[0;34m,\u001b[0m \u001b[0my\u001b[0m\u001b[0;34m[\u001b[0m\u001b[0;34m'test'\u001b[0m\u001b[0;34m]\u001b[0m\u001b[0;34m)\u001b[0m\u001b[0;34m\u001b[0m\u001b[0;34m\u001b[0m\u001b[0m\n",
      "\u001b[0;31mNameError\u001b[0m: name 'ts' is not defined"
     ]
    }
   ],
   "source": [
    "y = _split_train_test(ts, cv_splits_dict, pass_id='pass_2')\n",
    "\n",
    "display(y['train'], y['test'])"
   ]
  },
  {
   "cell_type": "code",
   "execution_count": null,
   "metadata": {},
   "outputs": [],
   "source": [
    "type( y['train']['power'] )"
   ]
  },
  {
   "cell_type": "code",
   "execution_count": null,
   "metadata": {},
   "outputs": [],
   "source": [
    "model = {}\n",
    "pred = {}\n",
    "# for district in df_spatiotemporal['temporal'].columns.get_level_values('district'):\n",
    "for district in ['DEF0C', 'DE111']:\n",
    "    \n",
    "    model[district] = {}\n",
    "    pred[district] = {}\n",
    "    ts = df_spatiotemporal['temporal'][district]\n",
    "    \n",
    "    for pass_id in cv_splits_dict.keys():\n",
    "        \n",
    "        y = _split_train_test(ts, cv_splits_dict, pass_id)\n",
    "        \n",
    "        model[district][pass_id] = ExponentialSmoothing(\n",
    "            y['train']['power'], \n",
    "            trend='add',\n",
    "            seasonal='mul',\n",
    "            seasonal_periods=28,\n",
    "        ).fit()\n",
    "    \n",
    "        pred[district][pass_id] = model[district][pass_id].predict(\n",
    "            start=y['test']['power'].index[0],\n",
    "            end=y['test']['power'].index[-1]\n",
    "        )\n"
   ]
  },
  {
   "cell_type": "code",
   "execution_count": null,
   "metadata": {},
   "outputs": [],
   "source": [
    "model['DEF0C']['pass_1'].forecast(8)"
   ]
  },
  {
   "cell_type": "code",
   "execution_count": null,
   "metadata": {},
   "outputs": [],
   "source": [
    "ax = y['train']['power'].plot(figsize=(10,6), marker='o', color='black', title=\"Forecasts from Holt-Winters' multiplicative method\" )\n",
    "ax.set_ylabel(\"Capacity Factor [-]\")\n",
    "model['DEF0C']['pass_1'].fittedvalues.plot(ax=ax, style='--', color='red')\n",
    "plt.show()"
   ]
  },
  {
   "cell_type": "code",
   "execution_count": null,
   "metadata": {},
   "outputs": [],
   "source": [
    "ax = y['train']['power'].plot(figsize=(10,6), marker='o', color='black', title=\"Forecasts from Holt-Winters' multiplicative method\" )\n",
    "ax.set_ylabel(\"Capacity Factor [-]\")\n",
    "plt.show()"
   ]
  },
  {
   "cell_type": "code",
   "execution_count": null,
   "metadata": {},
   "outputs": [],
   "source": [
    "y['train']['power'].plot.density()"
   ]
  },
  {
   "cell_type": "code",
   "execution_count": null,
   "metadata": {},
   "outputs": [],
   "source": [
    "def logstandardize(x):\n",
    "    logx = np.log(x)\n",
    "    return (logx - logx.mean())/(logx.std())\n",
    "\n",
    "y_preprocessed = logstandardize( y['train']['power'] )\n",
    "\n",
    "ax = y_preprocessed.plot.density()\n",
    "ax.axvline(x=y_preprocessed.mean())\n",
    "plt.show()"
   ]
  },
  {
   "cell_type": "code",
   "execution_count": null,
   "metadata": {},
   "outputs": [],
   "source": [
    "ax = y_preprocessed.plot(figsize=(10,6), marker='o', color='black', title=\"Forecasts from Holt-Winters' multiplicative method\" )\n",
    "ax.set_ylabel(\"Capacity Factor [-]\")\n",
    "plt.show()"
   ]
  },
  {
   "cell_type": "code",
   "execution_count": null,
   "metadata": {},
   "outputs": [],
   "source": [
    "tss = df_spatiotemporal['temporal']\n",
    "tss_preprocessed = logstandardize( tss )\n",
    "\n",
    "tss_preprocessed.plot.density()"
   ]
  },
  {
   "cell_type": "code",
   "execution_count": null,
   "metadata": {},
   "outputs": [],
   "source": [
    "tss.plot.density()  # TODO: handle NaNs/Infs resulting from np.log(0)"
   ]
  },
  {
   "cell_type": "code",
   "execution_count": null,
   "metadata": {},
   "outputs": [],
   "source": [
    "def logstandardize(x: pd.DataFrame):\n",
    "    logx = np.log(x)\n",
    "    \n",
    "    transformation_factors = {\n",
    "        'logx.mean': logx.mean(),\n",
    "        'logx.std': logx.std()\n",
    "    }\n",
    "    return ( logx - logx.mean() ) / logx.std()\n",
    "    # return {\n",
    "    #    'transformed': (logx - logx.mean())/(logx.std()),\n",
    "    #    'transformation_factors': transformation_factors\n",
    "    #}\n",
    "\n",
    "def make_positive(x):\n",
    "    return x + abs(x.min())\n",
    "\n",
    "\n",
    "def make_strictly_positive(x):\n",
    "    return x + abs(x.min()) + 1E-16\n",
    "    # return {\n",
    "    #    'transformed': x + abs(x.min()) + 1E-12,\n",
    "    #    'x.min': {'logxstd.min': x.min()},\n",
    "    #}\n",
    "\n",
    "tss = df_spatiotemporal['temporal']\n",
    "tss_preprocessed = logstandardize( tss )\n",
    "tss_preprocessed_positive = make_strictly_positive( tss_preprocessed ) "
   ]
  },
  {
   "cell_type": "code",
   "execution_count": null,
   "metadata": {},
   "outputs": [],
   "source": [
    "model = {}\n",
    "pred = {}\n",
    "# for district in df_spatiotemporal['temporal'].columns.get_level_values('district'):\n",
    "for district in ['DEF0C', 'DE111']:\n",
    "    \n",
    "    model[district] = {}\n",
    "    pred[district] = {}\n",
    "    ts = tss_preprocessed_positive[district]\n",
    "    \n",
    "    for pass_id in cv_splits_dict.keys():\n",
    "        \n",
    "        y = _split_train_test(ts, cv_splits_dict, pass_id)\n",
    "        \n",
    "        model[district][pass_id] = ExponentialSmoothing(\n",
    "            y['train']['power'], \n",
    "            trend='add',\n",
    "            seasonal='mul',\n",
    "            seasonal_periods=365,\n",
    "        ).fit()\n",
    "    \n",
    "        pred[district][pass_id] = model[district][pass_id].predict(\n",
    "            start=y['test']['power'].index[0],\n",
    "            end=y['test']['power'].index[-1]\n",
    "        )\n",
    "\n",
    "def unscale():\n",
    "    \n",
    "    \n",
    "ax = y['train']['power'].apply(np.exp).plot(figsize=(60,12), color='black',alpha=0.3, title=\"Forecasts from Holt-Winters' multiplicative method\" )\n",
    "ax.set_ylabel(\"Capacity Factor [-]\")\n",
    "#model['DEF0C']['pass_1'].fittedvalues.plot(ax=ax, style='-', color='red', alpha=0.5)\n",
    "#model['DEF0C']['pass_2'].fittedvalues.plot(ax=ax, style='-', color='blue', alpha=0.5)\n",
    "model['DEF0C']['pass_3'].fittedvalues.apply(np.exp).plot(ax=ax, style='-', color='green', alpha=0.5)\n",
    "plt.show()"
   ]
  },
  {
   "cell_type": "code",
   "execution_count": null,
   "metadata": {},
   "outputs": [],
   "source": []
  },
  {
   "cell_type": "code",
   "execution_count": null,
   "metadata": {},
   "outputs": [],
   "source": [
    "y_quantiletransformed = quantile_transformer.fit_transform( tss['DEF0C'] )\n",
    "y_quantiletransformed = pd.Series(\n",
    "    y_quantiletransformed[:,0],\n",
    "    index = tss.index\n",
    ")\n",
    "\n",
    "ax = y_quantiletransformed.plot.density()\n",
    "ax.axvline(x=y_quantiletransformed.mean())\n",
    "plt.show()"
   ]
  }
 ],
 "metadata": {
  "kernelspec": {
   "display_name": "wind_stf",
   "language": "python",
   "name": "wind_stf"
  },
  "language_info": {
   "codemirror_mode": {
    "name": "ipython",
    "version": 3
   },
   "file_extension": ".py",
   "mimetype": "text/x-python",
   "name": "python",
   "nbconvert_exporter": "python",
   "pygments_lexer": "ipython3",
   "version": "3.8.2"
  }
 },
 "nbformat": 4,
 "nbformat_minor": 4
}
