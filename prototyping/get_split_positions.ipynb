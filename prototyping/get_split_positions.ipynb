{
 "cells": [
  {
   "cell_type": "code",
   "execution_count": 1,
   "metadata": {},
   "outputs": [],
   "source": [
    "import pandas as pd\n",
    "import numpy as np"
   ]
  },
  {
   "cell_type": "code",
   "execution_count": 2,
   "metadata": {},
   "outputs": [],
   "source": [
    " window_size_first_pass = 365\n",
    " window_size_last_pass = 540\n",
    " n_passes = 3\n",
    " forecasting_window_size = 7"
   ]
  },
  {
   "cell_type": "code",
   "execution_count": 71,
   "metadata": {},
   "outputs": [],
   "source": [
    "cv_splits_dict = {}\n",
    "window_size_increment = int( (window_size_last_pass - window_size_first_pass) / (n_passes-1) )\n",
    "for p in range(n_passes):\n",
    "    pass_id = 'pass_' + str(p + 1)\n",
    "    cv_splits_dict[pass_id] = {\n",
    "            'train_idx': [\n",
    "                0,\n",
    "                window_size_first_pass + p * window_size_increment\n",
    "            ],\n",
    "            'test_idx': [\n",
    "                window_size_first_pass + p * window_size_increment,\n",
    "                window_size_first_pass + p * window_size_increment + forecasting_window_size,\n",
    "            ],\n",
    "    }\n"
   ]
  },
  {
   "cell_type": "code",
   "execution_count": 56,
   "metadata": {},
   "outputs": [
    {
     "data": {
      "text/plain": [
       "{'pass_1': {'train_idx': [0, 365], 'test_idx': [365, 372]},\n",
       " 'pass_2': {'train_idx': [0, 452], 'test_idx': [452, 459]},\n",
       " 'pass_3': {'train_idx': [0, 539], 'test_idx': [539, 546]}}"
      ]
     },
     "execution_count": 56,
     "metadata": {},
     "output_type": "execute_result"
    }
   ],
   "source": [
    "cv_splits_dict"
   ]
  },
  {
   "cell_type": "code",
   "execution_count": 27,
   "metadata": {},
   "outputs": [],
   "source": [
    "df_spatiotemporal = capacity_factors_daily_2000to2015 = pd.read_hdf(\n",
    "    path_or_buf='../data/05_model_input/df_spatiotemporal.hdf', \n",
    "    key='df_spatiotemporal'\n",
    ")"
   ]
  },
  {
   "cell_type": "code",
   "execution_count": 74,
   "metadata": {},
   "outputs": [
    {
     "data": {
      "text/plain": [
       "DatetimeIndex(['2014-01-01', '2014-01-02', '2014-01-03', '2014-01-04',\n",
       "               '2014-01-05', '2014-01-06', '2014-01-07', '2014-01-08',\n",
       "               '2014-01-09', '2014-01-10',\n",
       "               ...\n",
       "               '2014-12-22', '2014-12-23', '2014-12-24', '2014-12-25',\n",
       "               '2014-12-26', '2014-12-27', '2014-12-28', '2014-12-29',\n",
       "               '2014-12-30', '2014-12-31'],\n",
       "              dtype='datetime64[ns]', length=365, freq='D')"
      ]
     },
     "metadata": {},
     "output_type": "display_data"
    },
    {
     "data": {
      "text/plain": [
       "DatetimeIndex(['2015-01-01', '2015-01-02', '2015-01-03', '2015-01-04',\n",
       "               '2015-01-05', '2015-01-06', '2015-01-07'],\n",
       "              dtype='datetime64[ns]', freq='D')"
      ]
     },
     "metadata": {},
     "output_type": "display_data"
    },
    {
     "data": {
      "text/plain": [
       "DatetimeIndex(['2014-01-01', '2014-01-02', '2014-01-03', '2014-01-04',\n",
       "               '2014-01-05', '2014-01-06', '2014-01-07', '2014-01-08',\n",
       "               '2014-01-09', '2014-01-10',\n",
       "               ...\n",
       "               '2015-03-19', '2015-03-20', '2015-03-21', '2015-03-22',\n",
       "               '2015-03-23', '2015-03-24', '2015-03-25', '2015-03-26',\n",
       "               '2015-03-27', '2015-03-28'],\n",
       "              dtype='datetime64[ns]', length=452, freq='D')"
      ]
     },
     "metadata": {},
     "output_type": "display_data"
    },
    {
     "data": {
      "text/plain": [
       "DatetimeIndex(['2015-03-29', '2015-03-30', '2015-03-31', '2015-04-01',\n",
       "               '2015-04-02', '2015-04-03', '2015-04-04'],\n",
       "              dtype='datetime64[ns]', freq='D')"
      ]
     },
     "metadata": {},
     "output_type": "display_data"
    },
    {
     "data": {
      "text/plain": [
       "DatetimeIndex(['2014-01-01', '2014-01-02', '2014-01-03', '2014-01-04',\n",
       "               '2014-01-05', '2014-01-06', '2014-01-07', '2014-01-08',\n",
       "               '2014-01-09', '2014-01-10',\n",
       "               ...\n",
       "               '2015-06-14', '2015-06-15', '2015-06-16', '2015-06-17',\n",
       "               '2015-06-18', '2015-06-19', '2015-06-20', '2015-06-21',\n",
       "               '2015-06-22', '2015-06-23'],\n",
       "              dtype='datetime64[ns]', length=539, freq='D')"
      ]
     },
     "metadata": {},
     "output_type": "display_data"
    },
    {
     "data": {
      "text/plain": [
       "DatetimeIndex(['2015-06-24', '2015-06-25', '2015-06-26', '2015-06-27',\n",
       "               '2015-06-28', '2015-06-29', '2015-06-30'],\n",
       "              dtype='datetime64[ns]', freq='D')"
      ]
     },
     "metadata": {},
     "output_type": "display_data"
    }
   ],
   "source": [
    "cv = cv_splits_dict\n",
    "\n",
    "for pass_id in cv.keys():\n",
    "    y_train = df_spatiotemporal.iloc[\n",
    "        cv[pass_id]['train_idx'][0] : cv[pass_id]['train_idx'][1],\n",
    "        :\n",
    "    ]\n",
    "\n",
    "    y_test = df_spatiotemporal.iloc[\n",
    "        cv[pass_id]['test_idx'][0] : cv[pass_id]['test_idx'][1],\n",
    "        :\n",
    "    ]\n",
    "\n",
    "    display(y_train.index, y_test.index)"
   ]
  },
  {
   "cell_type": "code",
   "execution_count": 69,
   "metadata": {},
   "outputs": [
    {
     "data": {
      "text/plain": [
       "dict_keys(['pass_1', 'pass_2', 'pass_3'])"
      ]
     },
     "execution_count": 69,
     "metadata": {},
     "output_type": "execute_result"
    }
   ],
   "source": [
    "cv.keys()"
   ]
  },
  {
   "cell_type": "code",
   "execution_count": 53,
   "metadata": {},
   "outputs": [
    {
     "data": {
      "text/html": [
       "<div>\n",
       "<style scoped>\n",
       "    .dataframe tbody tr th:only-of-type {\n",
       "        vertical-align: middle;\n",
       "    }\n",
       "\n",
       "    .dataframe tbody tr th {\n",
       "        vertical-align: top;\n",
       "    }\n",
       "\n",
       "    .dataframe thead tr th {\n",
       "        text-align: left;\n",
       "    }\n",
       "</style>\n",
       "<table border=\"1\" class=\"dataframe\">\n",
       "  <thead>\n",
       "    <tr>\n",
       "      <th>data_type</th>\n",
       "      <th colspan=\"10\" halign=\"left\">spatial</th>\n",
       "      <th>...</th>\n",
       "      <th colspan=\"10\" halign=\"left\">temporal</th>\n",
       "    </tr>\n",
       "    <tr>\n",
       "      <th>district</th>\n",
       "      <th colspan=\"2\" halign=\"left\">DE111</th>\n",
       "      <th colspan=\"2\" halign=\"left\">DE114</th>\n",
       "      <th colspan=\"2\" halign=\"left\">DE115</th>\n",
       "      <th colspan=\"2\" halign=\"left\">DE116</th>\n",
       "      <th colspan=\"2\" halign=\"left\">DE118</th>\n",
       "      <th>...</th>\n",
       "      <th>DEG0E</th>\n",
       "      <th>DEG0F</th>\n",
       "      <th>DEG0G</th>\n",
       "      <th>DEG0I</th>\n",
       "      <th>DEG0J</th>\n",
       "      <th>DEG0K</th>\n",
       "      <th>DEG0L</th>\n",
       "      <th>DEG0M</th>\n",
       "      <th>DEG0N</th>\n",
       "      <th>DEG0P</th>\n",
       "    </tr>\n",
       "    <tr>\n",
       "      <th>var</th>\n",
       "      <th>lat</th>\n",
       "      <th>lon</th>\n",
       "      <th>lat</th>\n",
       "      <th>lon</th>\n",
       "      <th>lat</th>\n",
       "      <th>lon</th>\n",
       "      <th>lat</th>\n",
       "      <th>lon</th>\n",
       "      <th>lat</th>\n",
       "      <th>lon</th>\n",
       "      <th>...</th>\n",
       "      <th>power</th>\n",
       "      <th>power</th>\n",
       "      <th>power</th>\n",
       "      <th>power</th>\n",
       "      <th>power</th>\n",
       "      <th>power</th>\n",
       "      <th>power</th>\n",
       "      <th>power</th>\n",
       "      <th>power</th>\n",
       "      <th>power</th>\n",
       "    </tr>\n",
       "  </thead>\n",
       "  <tbody>\n",
       "    <tr>\n",
       "      <th>2015-06-24</th>\n",
       "      <td>48.831018</td>\n",
       "      <td>9.097432</td>\n",
       "      <td>48.625037</td>\n",
       "      <td>9.807222</td>\n",
       "      <td>48.974292</td>\n",
       "      <td>9.171993</td>\n",
       "      <td>48.893531</td>\n",
       "      <td>9.658886</td>\n",
       "      <td>49.230943</td>\n",
       "      <td>9.432435</td>\n",
       "      <td>...</td>\n",
       "      <td>0.021073</td>\n",
       "      <td>0.070911</td>\n",
       "      <td>0.121216</td>\n",
       "      <td>0.101873</td>\n",
       "      <td>0.136789</td>\n",
       "      <td>0.062794</td>\n",
       "      <td>0.123032</td>\n",
       "      <td>0.126751</td>\n",
       "      <td>0.073972</td>\n",
       "      <td>0.073844</td>\n",
       "    </tr>\n",
       "    <tr>\n",
       "      <th>2015-06-25</th>\n",
       "      <td>48.831018</td>\n",
       "      <td>9.097432</td>\n",
       "      <td>48.625037</td>\n",
       "      <td>9.807222</td>\n",
       "      <td>48.974292</td>\n",
       "      <td>9.171993</td>\n",
       "      <td>48.893531</td>\n",
       "      <td>9.658886</td>\n",
       "      <td>49.230943</td>\n",
       "      <td>9.432435</td>\n",
       "      <td>...</td>\n",
       "      <td>0.003439</td>\n",
       "      <td>0.002760</td>\n",
       "      <td>0.008543</td>\n",
       "      <td>0.003874</td>\n",
       "      <td>0.010780</td>\n",
       "      <td>0.012193</td>\n",
       "      <td>0.014287</td>\n",
       "      <td>0.017146</td>\n",
       "      <td>0.008688</td>\n",
       "      <td>0.009718</td>\n",
       "    </tr>\n",
       "    <tr>\n",
       "      <th>2015-06-26</th>\n",
       "      <td>48.831018</td>\n",
       "      <td>9.097432</td>\n",
       "      <td>48.625037</td>\n",
       "      <td>9.807222</td>\n",
       "      <td>48.974292</td>\n",
       "      <td>9.171993</td>\n",
       "      <td>48.893531</td>\n",
       "      <td>9.658886</td>\n",
       "      <td>49.230943</td>\n",
       "      <td>9.432435</td>\n",
       "      <td>...</td>\n",
       "      <td>0.002075</td>\n",
       "      <td>0.042397</td>\n",
       "      <td>0.036737</td>\n",
       "      <td>0.048522</td>\n",
       "      <td>0.046038</td>\n",
       "      <td>0.053898</td>\n",
       "      <td>0.064932</td>\n",
       "      <td>0.073543</td>\n",
       "      <td>0.028946</td>\n",
       "      <td>0.033992</td>\n",
       "    </tr>\n",
       "    <tr>\n",
       "      <th>2015-06-27</th>\n",
       "      <td>48.831018</td>\n",
       "      <td>9.097432</td>\n",
       "      <td>48.625037</td>\n",
       "      <td>9.807222</td>\n",
       "      <td>48.974292</td>\n",
       "      <td>9.171993</td>\n",
       "      <td>48.893531</td>\n",
       "      <td>9.658886</td>\n",
       "      <td>49.230943</td>\n",
       "      <td>9.432435</td>\n",
       "      <td>...</td>\n",
       "      <td>0.017386</td>\n",
       "      <td>0.036263</td>\n",
       "      <td>0.058665</td>\n",
       "      <td>0.066152</td>\n",
       "      <td>0.074198</td>\n",
       "      <td>0.058197</td>\n",
       "      <td>0.084893</td>\n",
       "      <td>0.099490</td>\n",
       "      <td>0.093847</td>\n",
       "      <td>0.112451</td>\n",
       "    </tr>\n",
       "    <tr>\n",
       "      <th>2015-06-28</th>\n",
       "      <td>48.831018</td>\n",
       "      <td>9.097432</td>\n",
       "      <td>48.625037</td>\n",
       "      <td>9.807222</td>\n",
       "      <td>48.974292</td>\n",
       "      <td>9.171993</td>\n",
       "      <td>48.893531</td>\n",
       "      <td>9.658886</td>\n",
       "      <td>49.230943</td>\n",
       "      <td>9.432435</td>\n",
       "      <td>...</td>\n",
       "      <td>0.003637</td>\n",
       "      <td>0.012531</td>\n",
       "      <td>0.014859</td>\n",
       "      <td>0.027275</td>\n",
       "      <td>0.022807</td>\n",
       "      <td>0.021842</td>\n",
       "      <td>0.026733</td>\n",
       "      <td>0.035512</td>\n",
       "      <td>0.006654</td>\n",
       "      <td>0.006720</td>\n",
       "    </tr>\n",
       "    <tr>\n",
       "      <th>2015-06-29</th>\n",
       "      <td>48.831018</td>\n",
       "      <td>9.097432</td>\n",
       "      <td>48.625037</td>\n",
       "      <td>9.807222</td>\n",
       "      <td>48.974292</td>\n",
       "      <td>9.171993</td>\n",
       "      <td>48.893531</td>\n",
       "      <td>9.658886</td>\n",
       "      <td>49.230943</td>\n",
       "      <td>9.432435</td>\n",
       "      <td>...</td>\n",
       "      <td>0.011074</td>\n",
       "      <td>0.028041</td>\n",
       "      <td>0.010750</td>\n",
       "      <td>0.034679</td>\n",
       "      <td>0.017427</td>\n",
       "      <td>0.021437</td>\n",
       "      <td>0.019890</td>\n",
       "      <td>0.019339</td>\n",
       "      <td>0.028403</td>\n",
       "      <td>0.038928</td>\n",
       "    </tr>\n",
       "    <tr>\n",
       "      <th>2015-06-30</th>\n",
       "      <td>48.831018</td>\n",
       "      <td>9.097432</td>\n",
       "      <td>48.625037</td>\n",
       "      <td>9.807222</td>\n",
       "      <td>48.974292</td>\n",
       "      <td>9.171993</td>\n",
       "      <td>48.893531</td>\n",
       "      <td>9.658886</td>\n",
       "      <td>49.230943</td>\n",
       "      <td>9.432435</td>\n",
       "      <td>...</td>\n",
       "      <td>0.015778</td>\n",
       "      <td>0.015639</td>\n",
       "      <td>0.018125</td>\n",
       "      <td>0.018315</td>\n",
       "      <td>0.023014</td>\n",
       "      <td>0.027694</td>\n",
       "      <td>0.031740</td>\n",
       "      <td>0.034031</td>\n",
       "      <td>0.031144</td>\n",
       "      <td>0.032036</td>\n",
       "    </tr>\n",
       "  </tbody>\n",
       "</table>\n",
       "<p>7 rows × 879 columns</p>\n",
       "</div>"
      ],
      "text/plain": [
       "data_type     spatial                                                      \\\n",
       "district        DE111                DE114                DE115             \n",
       "var               lat       lon        lat       lon        lat       lon   \n",
       "2015-06-24  48.831018  9.097432  48.625037  9.807222  48.974292  9.171993   \n",
       "2015-06-25  48.831018  9.097432  48.625037  9.807222  48.974292  9.171993   \n",
       "2015-06-26  48.831018  9.097432  48.625037  9.807222  48.974292  9.171993   \n",
       "2015-06-27  48.831018  9.097432  48.625037  9.807222  48.974292  9.171993   \n",
       "2015-06-28  48.831018  9.097432  48.625037  9.807222  48.974292  9.171993   \n",
       "2015-06-29  48.831018  9.097432  48.625037  9.807222  48.974292  9.171993   \n",
       "2015-06-30  48.831018  9.097432  48.625037  9.807222  48.974292  9.171993   \n",
       "\n",
       "data_type                                             ...  temporal            \\\n",
       "district        DE116                DE118            ...     DEG0E     DEG0F   \n",
       "var               lat       lon        lat       lon  ...     power     power   \n",
       "2015-06-24  48.893531  9.658886  49.230943  9.432435  ...  0.021073  0.070911   \n",
       "2015-06-25  48.893531  9.658886  49.230943  9.432435  ...  0.003439  0.002760   \n",
       "2015-06-26  48.893531  9.658886  49.230943  9.432435  ...  0.002075  0.042397   \n",
       "2015-06-27  48.893531  9.658886  49.230943  9.432435  ...  0.017386  0.036263   \n",
       "2015-06-28  48.893531  9.658886  49.230943  9.432435  ...  0.003637  0.012531   \n",
       "2015-06-29  48.893531  9.658886  49.230943  9.432435  ...  0.011074  0.028041   \n",
       "2015-06-30  48.893531  9.658886  49.230943  9.432435  ...  0.015778  0.015639   \n",
       "\n",
       "data_type                                                               \\\n",
       "district       DEG0G     DEG0I     DEG0J     DEG0K     DEG0L     DEG0M   \n",
       "var            power     power     power     power     power     power   \n",
       "2015-06-24  0.121216  0.101873  0.136789  0.062794  0.123032  0.126751   \n",
       "2015-06-25  0.008543  0.003874  0.010780  0.012193  0.014287  0.017146   \n",
       "2015-06-26  0.036737  0.048522  0.046038  0.053898  0.064932  0.073543   \n",
       "2015-06-27  0.058665  0.066152  0.074198  0.058197  0.084893  0.099490   \n",
       "2015-06-28  0.014859  0.027275  0.022807  0.021842  0.026733  0.035512   \n",
       "2015-06-29  0.010750  0.034679  0.017427  0.021437  0.019890  0.019339   \n",
       "2015-06-30  0.018125  0.018315  0.023014  0.027694  0.031740  0.034031   \n",
       "\n",
       "data_type                       \n",
       "district       DEG0N     DEG0P  \n",
       "var            power     power  \n",
       "2015-06-24  0.073972  0.073844  \n",
       "2015-06-25  0.008688  0.009718  \n",
       "2015-06-26  0.028946  0.033992  \n",
       "2015-06-27  0.093847  0.112451  \n",
       "2015-06-28  0.006654  0.006720  \n",
       "2015-06-29  0.028403  0.038928  \n",
       "2015-06-30  0.031144  0.032036  \n",
       "\n",
       "[7 rows x 879 columns]"
      ]
     },
     "execution_count": 53,
     "metadata": {},
     "output_type": "execute_result"
    }
   ],
   "source": [
    "y_test = df_spatiotemporal.iloc[\n",
    "    cv['pass_3']['test_idx'][0] : cv['pass_3']['test_idx'][1],\n",
    "    :\n",
    "]\n",
    "\n",
    "y_test"
   ]
  }
 ],
 "metadata": {
  "kernelspec": {
   "display_name": "wind_stf",
   "language": "python",
   "name": "wind_stf"
  },
  "language_info": {
   "codemirror_mode": {
    "name": "ipython",
    "version": 3
   },
   "file_extension": ".py",
   "mimetype": "text/x-python",
   "name": "python",
   "nbconvert_exporter": "python",
   "pygments_lexer": "ipython3",
   "version": "3.8.2"
  }
 },
 "nbformat": 4,
 "nbformat_minor": 4
}
